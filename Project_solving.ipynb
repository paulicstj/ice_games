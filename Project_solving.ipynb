{
 "cells": [
  {
   "cell_type": "markdown",
   "metadata": {
    "tags": [
     "e5c1f0c2-db9f-43a0-99b9-4875c52427e8"
    ]
   },
   "source": [
    "# Ice Games Project."
   ]
  },
  {
   "cell_type": "markdown",
   "metadata": {},
   "source": [
    "## Introduction.\n",
    "\n",
    "Today, the video game industry is a constantly evolving sector, characterized by its competitiveness and the need to understand consumer preferences. This project focuses on the online store Ice, which specializes in selling video games worldwide. <br> <br>With historical data since 2016, the project seeks to identify patterns that determine the success or failure of video games, leveraging user and expert reviews, genres, platforms, and sales. The ability to analyze this data will allow Ice to plan effective advertising campaigns and identify promising projects for 2017 and beyond. <br> <br> The information to be worked with is a dataset, the details of which are: <br> — Name <br>\n",
    "— Platform <br>\n",
    "— Year_of_Release <br>\n",
    "— Genre <br>\n",
    "— NA_sales (North American sales in millions of US dollars) <br>\n",
    "— EU_sales (European sales in millions of US dollars) <br>\n",
    "— JP_sales (Japanese sales in millions of US dollars) <br>\n",
    "— Other_sales (sales in other countries in millions of US dollars) <br>\n",
    "— Critic_Score (maximum of 100) <br>\n",
    "— User_Score (maximum of 10) <br>\n",
    "— Rating (ESRB) <br>"
   ]
  },
  {
   "cell_type": "markdown",
   "metadata": {},
   "source": [
    "## Objectives.\n",
    "\n",
    "The primary objective of this project is to analyze a video game dataset to identify the factors that contribute to its commercial success. This includes exploring sales by platform and genre, evaluating the influence of ratings on sales, and creating user profiles for different regions. At the end of the analysis, the goal is to provide informed recommendations to guide Ice's strategic marketing decisions."
   ]
  },
  {
   "cell_type": "markdown",
   "metadata": {},
   "source": [
    "## Action Plan.\n",
    "\n",
    "To achieve the stated objectives, the project will be developed in several stages:\n",
    "\n",
    "**Data Exploration:** Load and examine the dataset, verifying its structure and data quality. <br><br>\n",
    "\n",
    "**Data Preparation:** Clean and transform the data, including renaming columns, handling missing values, and converting data types as needed. <br><br>\n",
    "\n",
    "**Descriptive Analysis:** Investigate sales trends by year, platform, and genre. This will include identifying popular platforms and their evolution over time.<br><br>\n",
    "\n",
    "**Data Visualization:** Create graphs and charts showing the relationship between different variables, such as global sales and reviews, as well as game distribution by genre.<br><br>\n",
    "\n",
    "**User Profile:** Develop a profile for each region by analyzing the most popular platforms and genres, as well as the impact of ESRB ratings.<br><br>\n",
    "\n",
    "**Hypothesis Testing:** Formulate and test hypotheses about platform and genre ratings, using appropriate statistical methods.<br><br>\n",
    "\n",
    "**Conclusions and Recommendations:** Summarize the analysis findings, discuss their relevance, and offer strategic recommendations for future advertising campaigns.<br><br>\n",
    "\n",
    "By completing these steps, you will not only gain experience in data management but also add value to Ice Store's commercial strategy in the competitive video game market.<br><br>"
   ]
  },
  {
   "cell_type": "markdown",
   "metadata": {},
   "source": [
    "## Development."
   ]
  },
  {
   "cell_type": "markdown",
   "metadata": {},
   "source": [
    "### Import libraries."
   ]
  },
  {
   "cell_type": "code",
   "execution_count": 2,
   "metadata": {},
   "outputs": [],
   "source": [
    "import pandas as pd\n",
    "from scipy import stats as st\n",
    "import numpy as np\n",
    "from matplotlib import pyplot as plt\n",
    "import seaborn as sns \n",
    "import statistics as stat"
   ]
  },
  {
   "cell_type": "markdown",
   "metadata": {},
   "source": [
    "### Data load."
   ]
  },
  {
   "cell_type": "code",
   "execution_count": 3,
   "metadata": {},
   "outputs": [
    {
     "name": "stdout",
     "output_type": "stream",
     "text": [
      "<class 'pandas.core.frame.DataFrame'>\n",
      "RangeIndex: 16715 entries, 0 to 16714\n",
      "Data columns (total 11 columns):\n",
      " #   Column           Non-Null Count  Dtype  \n",
      "---  ------           --------------  -----  \n",
      " 0   Name             16713 non-null  object \n",
      " 1   Platform         16715 non-null  object \n",
      " 2   Year_of_Release  16446 non-null  float64\n",
      " 3   Genre            16713 non-null  object \n",
      " 4   NA_sales         16715 non-null  float64\n",
      " 5   EU_sales         16715 non-null  float64\n",
      " 6   JP_sales         16715 non-null  float64\n",
      " 7   Other_sales      16715 non-null  float64\n",
      " 8   Critic_Score     8137 non-null   float64\n",
      " 9   User_Score       10014 non-null  object \n",
      " 10  Rating           9949 non-null   object \n",
      "dtypes: float64(6), object(5)\n",
      "memory usage: 1.4+ MB\n"
     ]
    },
    {
     "data": {
      "text/html": [
       "<div>\n",
       "<style scoped>\n",
       "    .dataframe tbody tr th:only-of-type {\n",
       "        vertical-align: middle;\n",
       "    }\n",
       "\n",
       "    .dataframe tbody tr th {\n",
       "        vertical-align: top;\n",
       "    }\n",
       "\n",
       "    .dataframe thead th {\n",
       "        text-align: right;\n",
       "    }\n",
       "</style>\n",
       "<table border=\"1\" class=\"dataframe\">\n",
       "  <thead>\n",
       "    <tr style=\"text-align: right;\">\n",
       "      <th></th>\n",
       "      <th>Year_of_Release</th>\n",
       "      <th>NA_sales</th>\n",
       "      <th>EU_sales</th>\n",
       "      <th>JP_sales</th>\n",
       "      <th>Other_sales</th>\n",
       "      <th>Critic_Score</th>\n",
       "    </tr>\n",
       "  </thead>\n",
       "  <tbody>\n",
       "    <tr>\n",
       "      <th>count</th>\n",
       "      <td>16446.000000</td>\n",
       "      <td>16715.000000</td>\n",
       "      <td>16715.000000</td>\n",
       "      <td>16715.000000</td>\n",
       "      <td>16715.000000</td>\n",
       "      <td>8137.000000</td>\n",
       "    </tr>\n",
       "    <tr>\n",
       "      <th>mean</th>\n",
       "      <td>2006.484616</td>\n",
       "      <td>0.263377</td>\n",
       "      <td>0.145060</td>\n",
       "      <td>0.077617</td>\n",
       "      <td>0.047342</td>\n",
       "      <td>68.967679</td>\n",
       "    </tr>\n",
       "    <tr>\n",
       "      <th>std</th>\n",
       "      <td>5.877050</td>\n",
       "      <td>0.813604</td>\n",
       "      <td>0.503339</td>\n",
       "      <td>0.308853</td>\n",
       "      <td>0.186731</td>\n",
       "      <td>13.938165</td>\n",
       "    </tr>\n",
       "    <tr>\n",
       "      <th>min</th>\n",
       "      <td>1980.000000</td>\n",
       "      <td>0.000000</td>\n",
       "      <td>0.000000</td>\n",
       "      <td>0.000000</td>\n",
       "      <td>0.000000</td>\n",
       "      <td>13.000000</td>\n",
       "    </tr>\n",
       "    <tr>\n",
       "      <th>25%</th>\n",
       "      <td>2003.000000</td>\n",
       "      <td>0.000000</td>\n",
       "      <td>0.000000</td>\n",
       "      <td>0.000000</td>\n",
       "      <td>0.000000</td>\n",
       "      <td>60.000000</td>\n",
       "    </tr>\n",
       "    <tr>\n",
       "      <th>50%</th>\n",
       "      <td>2007.000000</td>\n",
       "      <td>0.080000</td>\n",
       "      <td>0.020000</td>\n",
       "      <td>0.000000</td>\n",
       "      <td>0.010000</td>\n",
       "      <td>71.000000</td>\n",
       "    </tr>\n",
       "    <tr>\n",
       "      <th>75%</th>\n",
       "      <td>2010.000000</td>\n",
       "      <td>0.240000</td>\n",
       "      <td>0.110000</td>\n",
       "      <td>0.040000</td>\n",
       "      <td>0.030000</td>\n",
       "      <td>79.000000</td>\n",
       "    </tr>\n",
       "    <tr>\n",
       "      <th>max</th>\n",
       "      <td>2016.000000</td>\n",
       "      <td>41.360000</td>\n",
       "      <td>28.960000</td>\n",
       "      <td>10.220000</td>\n",
       "      <td>10.570000</td>\n",
       "      <td>98.000000</td>\n",
       "    </tr>\n",
       "  </tbody>\n",
       "</table>\n",
       "</div>"
      ],
      "text/plain": [
       "       Year_of_Release      NA_sales      EU_sales      JP_sales  \\\n",
       "count     16446.000000  16715.000000  16715.000000  16715.000000   \n",
       "mean       2006.484616      0.263377      0.145060      0.077617   \n",
       "std           5.877050      0.813604      0.503339      0.308853   \n",
       "min        1980.000000      0.000000      0.000000      0.000000   \n",
       "25%        2003.000000      0.000000      0.000000      0.000000   \n",
       "50%        2007.000000      0.080000      0.020000      0.000000   \n",
       "75%        2010.000000      0.240000      0.110000      0.040000   \n",
       "max        2016.000000     41.360000     28.960000     10.220000   \n",
       "\n",
       "        Other_sales  Critic_Score  \n",
       "count  16715.000000   8137.000000  \n",
       "mean       0.047342     68.967679  \n",
       "std        0.186731     13.938165  \n",
       "min        0.000000     13.000000  \n",
       "25%        0.000000     60.000000  \n",
       "50%        0.010000     71.000000  \n",
       "75%        0.030000     79.000000  \n",
       "max       10.570000     98.000000  "
      ]
     },
     "execution_count": 3,
     "metadata": {},
     "output_type": "execute_result"
    }
   ],
   "source": [
    "df= pd.read_csv(\"/Users/pauli/Documents/Data/ice_games/games.csv\")\n",
    "df.info()\n",
    "df.describe()"
   ]
  },
  {
   "cell_type": "code",
   "execution_count": 4,
   "metadata": {},
   "outputs": [
    {
     "data": {
      "text/html": [
       "<div>\n",
       "<style scoped>\n",
       "    .dataframe tbody tr th:only-of-type {\n",
       "        vertical-align: middle;\n",
       "    }\n",
       "\n",
       "    .dataframe tbody tr th {\n",
       "        vertical-align: top;\n",
       "    }\n",
       "\n",
       "    .dataframe thead th {\n",
       "        text-align: right;\n",
       "    }\n",
       "</style>\n",
       "<table border=\"1\" class=\"dataframe\">\n",
       "  <thead>\n",
       "    <tr style=\"text-align: right;\">\n",
       "      <th></th>\n",
       "      <th>Name</th>\n",
       "      <th>Platform</th>\n",
       "      <th>Year_of_Release</th>\n",
       "      <th>Genre</th>\n",
       "      <th>NA_sales</th>\n",
       "      <th>EU_sales</th>\n",
       "      <th>JP_sales</th>\n",
       "      <th>Other_sales</th>\n",
       "      <th>Critic_Score</th>\n",
       "      <th>User_Score</th>\n",
       "      <th>Rating</th>\n",
       "    </tr>\n",
       "  </thead>\n",
       "  <tbody>\n",
       "    <tr>\n",
       "      <th>0</th>\n",
       "      <td>Wii Sports</td>\n",
       "      <td>Wii</td>\n",
       "      <td>2006.0</td>\n",
       "      <td>Sports</td>\n",
       "      <td>41.36</td>\n",
       "      <td>28.96</td>\n",
       "      <td>3.77</td>\n",
       "      <td>8.45</td>\n",
       "      <td>76.0</td>\n",
       "      <td>8</td>\n",
       "      <td>E</td>\n",
       "    </tr>\n",
       "    <tr>\n",
       "      <th>1</th>\n",
       "      <td>Super Mario Bros.</td>\n",
       "      <td>NES</td>\n",
       "      <td>1985.0</td>\n",
       "      <td>Platform</td>\n",
       "      <td>29.08</td>\n",
       "      <td>3.58</td>\n",
       "      <td>6.81</td>\n",
       "      <td>0.77</td>\n",
       "      <td>NaN</td>\n",
       "      <td>NaN</td>\n",
       "      <td>NaN</td>\n",
       "    </tr>\n",
       "    <tr>\n",
       "      <th>2</th>\n",
       "      <td>Mario Kart Wii</td>\n",
       "      <td>Wii</td>\n",
       "      <td>2008.0</td>\n",
       "      <td>Racing</td>\n",
       "      <td>15.68</td>\n",
       "      <td>12.76</td>\n",
       "      <td>3.79</td>\n",
       "      <td>3.29</td>\n",
       "      <td>82.0</td>\n",
       "      <td>8.3</td>\n",
       "      <td>E</td>\n",
       "    </tr>\n",
       "    <tr>\n",
       "      <th>3</th>\n",
       "      <td>Wii Sports Resort</td>\n",
       "      <td>Wii</td>\n",
       "      <td>2009.0</td>\n",
       "      <td>Sports</td>\n",
       "      <td>15.61</td>\n",
       "      <td>10.93</td>\n",
       "      <td>3.28</td>\n",
       "      <td>2.95</td>\n",
       "      <td>80.0</td>\n",
       "      <td>8</td>\n",
       "      <td>E</td>\n",
       "    </tr>\n",
       "    <tr>\n",
       "      <th>4</th>\n",
       "      <td>Pokemon Red/Pokemon Blue</td>\n",
       "      <td>GB</td>\n",
       "      <td>1996.0</td>\n",
       "      <td>Role-Playing</td>\n",
       "      <td>11.27</td>\n",
       "      <td>8.89</td>\n",
       "      <td>10.22</td>\n",
       "      <td>1.00</td>\n",
       "      <td>NaN</td>\n",
       "      <td>NaN</td>\n",
       "      <td>NaN</td>\n",
       "    </tr>\n",
       "    <tr>\n",
       "      <th>5</th>\n",
       "      <td>Tetris</td>\n",
       "      <td>GB</td>\n",
       "      <td>1989.0</td>\n",
       "      <td>Puzzle</td>\n",
       "      <td>23.20</td>\n",
       "      <td>2.26</td>\n",
       "      <td>4.22</td>\n",
       "      <td>0.58</td>\n",
       "      <td>NaN</td>\n",
       "      <td>NaN</td>\n",
       "      <td>NaN</td>\n",
       "    </tr>\n",
       "    <tr>\n",
       "      <th>6</th>\n",
       "      <td>New Super Mario Bros.</td>\n",
       "      <td>DS</td>\n",
       "      <td>2006.0</td>\n",
       "      <td>Platform</td>\n",
       "      <td>11.28</td>\n",
       "      <td>9.14</td>\n",
       "      <td>6.50</td>\n",
       "      <td>2.88</td>\n",
       "      <td>89.0</td>\n",
       "      <td>8.5</td>\n",
       "      <td>E</td>\n",
       "    </tr>\n",
       "    <tr>\n",
       "      <th>7</th>\n",
       "      <td>Wii Play</td>\n",
       "      <td>Wii</td>\n",
       "      <td>2006.0</td>\n",
       "      <td>Misc</td>\n",
       "      <td>13.96</td>\n",
       "      <td>9.18</td>\n",
       "      <td>2.93</td>\n",
       "      <td>2.84</td>\n",
       "      <td>58.0</td>\n",
       "      <td>6.6</td>\n",
       "      <td>E</td>\n",
       "    </tr>\n",
       "    <tr>\n",
       "      <th>8</th>\n",
       "      <td>New Super Mario Bros. Wii</td>\n",
       "      <td>Wii</td>\n",
       "      <td>2009.0</td>\n",
       "      <td>Platform</td>\n",
       "      <td>14.44</td>\n",
       "      <td>6.94</td>\n",
       "      <td>4.70</td>\n",
       "      <td>2.24</td>\n",
       "      <td>87.0</td>\n",
       "      <td>8.4</td>\n",
       "      <td>E</td>\n",
       "    </tr>\n",
       "    <tr>\n",
       "      <th>9</th>\n",
       "      <td>Duck Hunt</td>\n",
       "      <td>NES</td>\n",
       "      <td>1984.0</td>\n",
       "      <td>Shooter</td>\n",
       "      <td>26.93</td>\n",
       "      <td>0.63</td>\n",
       "      <td>0.28</td>\n",
       "      <td>0.47</td>\n",
       "      <td>NaN</td>\n",
       "      <td>NaN</td>\n",
       "      <td>NaN</td>\n",
       "    </tr>\n",
       "  </tbody>\n",
       "</table>\n",
       "</div>"
      ],
      "text/plain": [
       "                        Name Platform  Year_of_Release         Genre  \\\n",
       "0                 Wii Sports      Wii           2006.0        Sports   \n",
       "1          Super Mario Bros.      NES           1985.0      Platform   \n",
       "2             Mario Kart Wii      Wii           2008.0        Racing   \n",
       "3          Wii Sports Resort      Wii           2009.0        Sports   \n",
       "4   Pokemon Red/Pokemon Blue       GB           1996.0  Role-Playing   \n",
       "5                     Tetris       GB           1989.0        Puzzle   \n",
       "6      New Super Mario Bros.       DS           2006.0      Platform   \n",
       "7                   Wii Play      Wii           2006.0          Misc   \n",
       "8  New Super Mario Bros. Wii      Wii           2009.0      Platform   \n",
       "9                  Duck Hunt      NES           1984.0       Shooter   \n",
       "\n",
       "   NA_sales  EU_sales  JP_sales  Other_sales  Critic_Score User_Score Rating  \n",
       "0     41.36     28.96      3.77         8.45          76.0          8      E  \n",
       "1     29.08      3.58      6.81         0.77           NaN        NaN    NaN  \n",
       "2     15.68     12.76      3.79         3.29          82.0        8.3      E  \n",
       "3     15.61     10.93      3.28         2.95          80.0          8      E  \n",
       "4     11.27      8.89     10.22         1.00           NaN        NaN    NaN  \n",
       "5     23.20      2.26      4.22         0.58           NaN        NaN    NaN  \n",
       "6     11.28      9.14      6.50         2.88          89.0        8.5      E  \n",
       "7     13.96      9.18      2.93         2.84          58.0        6.6      E  \n",
       "8     14.44      6.94      4.70         2.24          87.0        8.4      E  \n",
       "9     26.93      0.63      0.28         0.47           NaN        NaN    NaN  "
      ]
     },
     "execution_count": 4,
     "metadata": {},
     "output_type": "execute_result"
    }
   ],
   "source": [
    "# Print a sample of the data\n",
    "\n",
    "df.head(10)"
   ]
  },
  {
   "cell_type": "markdown",
   "metadata": {},
   "source": [
    "The data show missing values ​​in almost all columns, except for sales for each region. These missing data will be analyzed and addressed in the next step of development. For ease of work and presentation, all column names will be in lowercase."
   ]
  },
  {
   "cell_type": "markdown",
   "metadata": {},
   "source": [
    "### Data prep"
   ]
  },
  {
   "cell_type": "code",
   "execution_count": 5,
   "metadata": {},
   "outputs": [
    {
     "data": {
      "text/plain": [
       "Index(['name', 'platform', 'year_of_release', 'genre', 'na_sales', 'eu_sales',\n",
       "       'jp_sales', 'other_sales', 'critic_score', 'user_score', 'rating'],\n",
       "      dtype='object')"
      ]
     },
     "execution_count": 5,
     "metadata": {},
     "output_type": "execute_result"
    }
   ],
   "source": [
    "# Convert column names to lowercase.\n",
    "new_names=[]\n",
    "for old_name in df.columns:\n",
    "    lower= old_name.lower()\n",
    "    new_names.append(lower)\n",
    "    \n",
    "df.columns= new_names\n",
    "df.columns"
   ]
  },
  {
   "cell_type": "code",
   "execution_count": 6,
   "metadata": {},
   "outputs": [],
   "source": [
    "# Change the data types of columns.\n",
    "\n",
    "df['year_of_release']= df['year_of_release'].astype('Int64')"
   ]
  },
  {
   "cell_type": "markdown",
   "metadata": {},
   "source": [
    "The release year was changed to whole numbers as they were displayed as decimals, when there was no need for them since they were years."
   ]
  },
  {
   "cell_type": "code",
   "execution_count": 7,
   "metadata": {},
   "outputs": [
    {
     "data": {
      "text/plain": [
       "array(['8', nan, '8.3', '8.5', '6.6', '8.4', '8.6', '7.7', '6.3', '7.4',\n",
       "       '8.2', '9', '7.9', '8.1', '8.7', '7.1', '3.4', '5.3', '4.8', '3.2',\n",
       "       '8.9', '6.4', '7.8', '7.5', '2.6', '7.2', '9.2', '7', '7.3', '4.3',\n",
       "       '7.6', '5.7', '5', '9.1', '6.5', 'tbd', '8.8', '6.9', '9.4', '6.8',\n",
       "       '6.1', '6.7', '5.4', '4', '4.9', '4.5', '9.3', '6.2', '4.2', '6',\n",
       "       '3.7', '4.1', '5.8', '5.6', '5.5', '4.4', '4.6', '5.9', '3.9',\n",
       "       '3.1', '2.9', '5.2', '3.3', '4.7', '5.1', '3.5', '2.5', '1.9', '3',\n",
       "       '2.7', '2.2', '2', '9.5', '2.1', '3.6', '2.8', '1.8', '3.8', '0',\n",
       "       '1.6', '9.6', '2.4', '1.7', '1.1', '0.3', '1.5', '0.7', '1.2',\n",
       "       '2.3', '0.5', '1.3', '0.2', '0.6', '1.4', '0.9', '1', '9.7'],\n",
       "      dtype=object)"
      ]
     },
     "execution_count": 7,
     "metadata": {},
     "output_type": "execute_result"
    }
   ],
   "source": [
    "df['user_score'].unique()\n"
   ]
  },
  {
   "cell_type": "markdown",
   "metadata": {},
   "source": [
    "There is a non-numeric value, 'tbd', which means that these are values ​​that have not yet been defined, so it will be replaced as a nan so that all data can be treated equally as missing and the data type can be changed."
   ]
  },
  {
   "cell_type": "code",
   "execution_count": 8,
   "metadata": {},
   "outputs": [],
   "source": [
    "df['user_score']= df['user_score'].replace('tbd', np.nan)\n",
    "\n",
    "df['user_score']= df['user_score'].astype('float')"
   ]
  },
  {
   "cell_type": "markdown",
   "metadata": {},
   "source": [
    "The user score data type must be changed to a floating point number, as the score is a numeric data type with decimals. This is important so that numerical calculations, comparisons, and corresponding graphs can be performed later without generating errors due to the data type."
   ]
  },
  {
   "cell_type": "code",
   "execution_count": 9,
   "metadata": {},
   "outputs": [
    {
     "data": {
      "text/plain": [
       "0        False\n",
       "1        False\n",
       "2        False\n",
       "3        False\n",
       "4        False\n",
       "         ...  \n",
       "16710    False\n",
       "16711    False\n",
       "16712    False\n",
       "16713    False\n",
       "16714    False\n",
       "Length: 16715, dtype: bool"
      ]
     },
     "execution_count": 9,
     "metadata": {},
     "output_type": "execute_result"
    }
   ],
   "source": [
    "# Check if there are duplicate values.\n",
    "\n",
    "df.duplicated()"
   ]
  },
  {
   "cell_type": "markdown",
   "metadata": {},
   "source": [
    "There are no duplicate rows in the dataframe."
   ]
  },
  {
   "cell_type": "code",
   "execution_count": 10,
   "metadata": {},
   "outputs": [
    {
     "data": {
      "text/plain": [
       "name                  2\n",
       "platform              0\n",
       "year_of_release     269\n",
       "genre                 2\n",
       "na_sales              0\n",
       "eu_sales              0\n",
       "jp_sales              0\n",
       "other_sales           0\n",
       "critic_score       8578\n",
       "user_score         9125\n",
       "rating             6766\n",
       "dtype: int64"
      ]
     },
     "execution_count": 10,
     "metadata": {},
     "output_type": "execute_result"
    }
   ],
   "source": [
    "#Check for missing values.\n",
    "df.isna().sum()"
   ]
  },
  {
   "cell_type": "code",
   "execution_count": 11,
   "metadata": {},
   "outputs": [
    {
     "data": {
      "text/html": [
       "<div>\n",
       "<style scoped>\n",
       "    .dataframe tbody tr th:only-of-type {\n",
       "        vertical-align: middle;\n",
       "    }\n",
       "\n",
       "    .dataframe tbody tr th {\n",
       "        vertical-align: top;\n",
       "    }\n",
       "\n",
       "    .dataframe thead th {\n",
       "        text-align: right;\n",
       "    }\n",
       "</style>\n",
       "<table border=\"1\" class=\"dataframe\">\n",
       "  <thead>\n",
       "    <tr style=\"text-align: right;\">\n",
       "      <th></th>\n",
       "      <th>name</th>\n",
       "      <th>platform</th>\n",
       "      <th>year_of_release</th>\n",
       "      <th>genre</th>\n",
       "      <th>na_sales</th>\n",
       "      <th>eu_sales</th>\n",
       "      <th>jp_sales</th>\n",
       "      <th>other_sales</th>\n",
       "      <th>critic_score</th>\n",
       "      <th>user_score</th>\n",
       "      <th>rating</th>\n",
       "    </tr>\n",
       "  </thead>\n",
       "  <tbody>\n",
       "    <tr>\n",
       "      <th>659</th>\n",
       "      <td>NaN</td>\n",
       "      <td>GEN</td>\n",
       "      <td>1993</td>\n",
       "      <td>NaN</td>\n",
       "      <td>1.78</td>\n",
       "      <td>0.53</td>\n",
       "      <td>0.00</td>\n",
       "      <td>0.08</td>\n",
       "      <td>NaN</td>\n",
       "      <td>NaN</td>\n",
       "      <td>NaN</td>\n",
       "    </tr>\n",
       "    <tr>\n",
       "      <th>14244</th>\n",
       "      <td>NaN</td>\n",
       "      <td>GEN</td>\n",
       "      <td>1993</td>\n",
       "      <td>NaN</td>\n",
       "      <td>0.00</td>\n",
       "      <td>0.00</td>\n",
       "      <td>0.03</td>\n",
       "      <td>0.00</td>\n",
       "      <td>NaN</td>\n",
       "      <td>NaN</td>\n",
       "      <td>NaN</td>\n",
       "    </tr>\n",
       "  </tbody>\n",
       "</table>\n",
       "</div>"
      ],
      "text/plain": [
       "      name platform  year_of_release genre  na_sales  eu_sales  jp_sales  \\\n",
       "659    NaN      GEN             1993   NaN      1.78      0.53      0.00   \n",
       "14244  NaN      GEN             1993   NaN      0.00      0.00      0.03   \n",
       "\n",
       "       other_sales  critic_score  user_score rating  \n",
       "659           0.08           NaN         NaN    NaN  \n",
       "14244         0.00           NaN         NaN    NaN  "
      ]
     },
     "execution_count": 11,
     "metadata": {},
     "output_type": "execute_result"
    }
   ],
   "source": [
    "#Check for missing values ​​by column.\n",
    "\n",
    "df[df['name'].isna()]"
   ]
  },
  {
   "cell_type": "markdown",
   "metadata": {},
   "source": [
    "The only two missing values ​​in name are also missing values ​​in genre, so both can be resolved simultaneously. The reason for these missing values ​​could be the release year, a loss of information for those specific games, and it's difficult to recover due to the age of the data. In this case, they will be removed from the DF, as there are several missing values ​​in the row. Having data for a game without a name isn't useful, since the analysis we want to perform involves sales by game and the evolution of each one over time."
   ]
  },
  {
   "cell_type": "code",
   "execution_count": 12,
   "metadata": {},
   "outputs": [
    {
     "data": {
      "text/plain": [
       "name                  0\n",
       "platform              0\n",
       "year_of_release     269\n",
       "genre                 0\n",
       "na_sales              0\n",
       "eu_sales              0\n",
       "jp_sales              0\n",
       "other_sales           0\n",
       "critic_score       8576\n",
       "user_score         9123\n",
       "rating             6764\n",
       "dtype: int64"
      ]
     },
     "execution_count": 12,
     "metadata": {},
     "output_type": "execute_result"
    }
   ],
   "source": [
    "#Delete missing name data\n",
    "\n",
    "df= df.dropna(subset=['name'])\n",
    "\n",
    "#Check that they are no longer there\n",
    "\n",
    "df.isna().sum()"
   ]
  },
  {
   "cell_type": "code",
   "execution_count": 13,
   "metadata": {},
   "outputs": [
    {
     "name": "stderr",
     "output_type": "stream",
     "text": [
      "/var/folders/cq/bs731p7n52x64481gqr1xjvm0000gn/T/ipykernel_58131/3676805823.py:3: FutureWarning: A value is trying to be set on a copy of a DataFrame or Series through chained assignment using an inplace method.\n",
      "The behavior will change in pandas 3.0. This inplace method will never work because the intermediate object on which we are setting values always behaves as a copy.\n",
      "\n",
      "For example, when doing 'df[col].method(value, inplace=True)', try using 'df.method({col: value}, inplace=True)' or df[col] = df[col].method(value) instead, to perform the operation inplace on the original object.\n",
      "\n",
      "\n",
      "  df['user_score'].fillna(med_user, inplace= True)\n",
      "/var/folders/cq/bs731p7n52x64481gqr1xjvm0000gn/T/ipykernel_58131/3676805823.py:6: FutureWarning: A value is trying to be set on a copy of a DataFrame or Series through chained assignment using an inplace method.\n",
      "The behavior will change in pandas 3.0. This inplace method will never work because the intermediate object on which we are setting values always behaves as a copy.\n",
      "\n",
      "For example, when doing 'df[col].method(value, inplace=True)', try using 'df.method({col: value}, inplace=True)' or df[col] = df[col].method(value) instead, to perform the operation inplace on the original object.\n",
      "\n",
      "\n",
      "  df['critic_score'].fillna(med_critic, inplace= True)\n"
     ]
    },
    {
     "data": {
      "text/plain": [
       "name                  0\n",
       "platform              0\n",
       "year_of_release     269\n",
       "genre                 0\n",
       "na_sales              0\n",
       "eu_sales              0\n",
       "jp_sales              0\n",
       "other_sales           0\n",
       "critic_score          0\n",
       "user_score            0\n",
       "rating             6764\n",
       "dtype: int64"
      ]
     },
     "execution_count": 13,
     "metadata": {},
     "output_type": "execute_result"
    }
   ],
   "source": [
    "# Fill NaNs\n",
    "med_user= df['user_score'].median()\n",
    "df['user_score'].fillna(med_user, inplace= True)\n",
    "\n",
    "med_critic= df['critic_score'].median()\n",
    "df['critic_score'].fillna(med_critic, inplace= True)\n",
    "\n",
    "df.isna().sum()"
   ]
  },
  {
   "cell_type": "code",
   "execution_count": 14,
   "metadata": {},
   "outputs": [
    {
     "data": {
      "text/html": [
       "<div>\n",
       "<style scoped>\n",
       "    .dataframe tbody tr th:only-of-type {\n",
       "        vertical-align: middle;\n",
       "    }\n",
       "\n",
       "    .dataframe tbody tr th {\n",
       "        vertical-align: top;\n",
       "    }\n",
       "\n",
       "    .dataframe thead th {\n",
       "        text-align: right;\n",
       "    }\n",
       "</style>\n",
       "<table border=\"1\" class=\"dataframe\">\n",
       "  <thead>\n",
       "    <tr style=\"text-align: right;\">\n",
       "      <th></th>\n",
       "      <th>games</th>\n",
       "      <th>user</th>\n",
       "      <th>critic</th>\n",
       "    </tr>\n",
       "    <tr>\n",
       "      <th>year_of_release</th>\n",
       "      <th></th>\n",
       "      <th></th>\n",
       "      <th></th>\n",
       "    </tr>\n",
       "  </thead>\n",
       "  <tbody>\n",
       "    <tr>\n",
       "      <th>1980</th>\n",
       "      <td>9</td>\n",
       "      <td>9</td>\n",
       "      <td>9</td>\n",
       "    </tr>\n",
       "    <tr>\n",
       "      <th>1981</th>\n",
       "      <td>46</td>\n",
       "      <td>46</td>\n",
       "      <td>46</td>\n",
       "    </tr>\n",
       "    <tr>\n",
       "      <th>1982</th>\n",
       "      <td>36</td>\n",
       "      <td>36</td>\n",
       "      <td>36</td>\n",
       "    </tr>\n",
       "    <tr>\n",
       "      <th>1983</th>\n",
       "      <td>17</td>\n",
       "      <td>17</td>\n",
       "      <td>17</td>\n",
       "    </tr>\n",
       "    <tr>\n",
       "      <th>1984</th>\n",
       "      <td>14</td>\n",
       "      <td>14</td>\n",
       "      <td>14</td>\n",
       "    </tr>\n",
       "    <tr>\n",
       "      <th>1985</th>\n",
       "      <td>14</td>\n",
       "      <td>14</td>\n",
       "      <td>14</td>\n",
       "    </tr>\n",
       "    <tr>\n",
       "      <th>1986</th>\n",
       "      <td>21</td>\n",
       "      <td>21</td>\n",
       "      <td>21</td>\n",
       "    </tr>\n",
       "    <tr>\n",
       "      <th>1987</th>\n",
       "      <td>16</td>\n",
       "      <td>16</td>\n",
       "      <td>16</td>\n",
       "    </tr>\n",
       "    <tr>\n",
       "      <th>1988</th>\n",
       "      <td>15</td>\n",
       "      <td>15</td>\n",
       "      <td>15</td>\n",
       "    </tr>\n",
       "    <tr>\n",
       "      <th>1989</th>\n",
       "      <td>17</td>\n",
       "      <td>17</td>\n",
       "      <td>17</td>\n",
       "    </tr>\n",
       "    <tr>\n",
       "      <th>1990</th>\n",
       "      <td>16</td>\n",
       "      <td>16</td>\n",
       "      <td>16</td>\n",
       "    </tr>\n",
       "    <tr>\n",
       "      <th>1991</th>\n",
       "      <td>41</td>\n",
       "      <td>41</td>\n",
       "      <td>41</td>\n",
       "    </tr>\n",
       "    <tr>\n",
       "      <th>1992</th>\n",
       "      <td>43</td>\n",
       "      <td>43</td>\n",
       "      <td>43</td>\n",
       "    </tr>\n",
       "    <tr>\n",
       "      <th>1993</th>\n",
       "      <td>60</td>\n",
       "      <td>60</td>\n",
       "      <td>60</td>\n",
       "    </tr>\n",
       "    <tr>\n",
       "      <th>1994</th>\n",
       "      <td>121</td>\n",
       "      <td>121</td>\n",
       "      <td>121</td>\n",
       "    </tr>\n",
       "    <tr>\n",
       "      <th>1995</th>\n",
       "      <td>219</td>\n",
       "      <td>219</td>\n",
       "      <td>219</td>\n",
       "    </tr>\n",
       "    <tr>\n",
       "      <th>1996</th>\n",
       "      <td>263</td>\n",
       "      <td>263</td>\n",
       "      <td>263</td>\n",
       "    </tr>\n",
       "    <tr>\n",
       "      <th>1997</th>\n",
       "      <td>289</td>\n",
       "      <td>289</td>\n",
       "      <td>289</td>\n",
       "    </tr>\n",
       "    <tr>\n",
       "      <th>1998</th>\n",
       "      <td>379</td>\n",
       "      <td>379</td>\n",
       "      <td>379</td>\n",
       "    </tr>\n",
       "    <tr>\n",
       "      <th>1999</th>\n",
       "      <td>338</td>\n",
       "      <td>338</td>\n",
       "      <td>338</td>\n",
       "    </tr>\n",
       "    <tr>\n",
       "      <th>2000</th>\n",
       "      <td>350</td>\n",
       "      <td>350</td>\n",
       "      <td>350</td>\n",
       "    </tr>\n",
       "    <tr>\n",
       "      <th>2001</th>\n",
       "      <td>482</td>\n",
       "      <td>482</td>\n",
       "      <td>482</td>\n",
       "    </tr>\n",
       "    <tr>\n",
       "      <th>2002</th>\n",
       "      <td>829</td>\n",
       "      <td>829</td>\n",
       "      <td>829</td>\n",
       "    </tr>\n",
       "    <tr>\n",
       "      <th>2003</th>\n",
       "      <td>775</td>\n",
       "      <td>775</td>\n",
       "      <td>775</td>\n",
       "    </tr>\n",
       "    <tr>\n",
       "      <th>2004</th>\n",
       "      <td>762</td>\n",
       "      <td>762</td>\n",
       "      <td>762</td>\n",
       "    </tr>\n",
       "    <tr>\n",
       "      <th>2005</th>\n",
       "      <td>939</td>\n",
       "      <td>939</td>\n",
       "      <td>939</td>\n",
       "    </tr>\n",
       "    <tr>\n",
       "      <th>2006</th>\n",
       "      <td>1006</td>\n",
       "      <td>1006</td>\n",
       "      <td>1006</td>\n",
       "    </tr>\n",
       "    <tr>\n",
       "      <th>2007</th>\n",
       "      <td>1197</td>\n",
       "      <td>1197</td>\n",
       "      <td>1197</td>\n",
       "    </tr>\n",
       "    <tr>\n",
       "      <th>2008</th>\n",
       "      <td>1427</td>\n",
       "      <td>1427</td>\n",
       "      <td>1427</td>\n",
       "    </tr>\n",
       "    <tr>\n",
       "      <th>2009</th>\n",
       "      <td>1426</td>\n",
       "      <td>1426</td>\n",
       "      <td>1426</td>\n",
       "    </tr>\n",
       "    <tr>\n",
       "      <th>2010</th>\n",
       "      <td>1255</td>\n",
       "      <td>1255</td>\n",
       "      <td>1255</td>\n",
       "    </tr>\n",
       "    <tr>\n",
       "      <th>2011</th>\n",
       "      <td>1136</td>\n",
       "      <td>1136</td>\n",
       "      <td>1136</td>\n",
       "    </tr>\n",
       "    <tr>\n",
       "      <th>2012</th>\n",
       "      <td>653</td>\n",
       "      <td>653</td>\n",
       "      <td>653</td>\n",
       "    </tr>\n",
       "    <tr>\n",
       "      <th>2013</th>\n",
       "      <td>544</td>\n",
       "      <td>544</td>\n",
       "      <td>544</td>\n",
       "    </tr>\n",
       "    <tr>\n",
       "      <th>2014</th>\n",
       "      <td>581</td>\n",
       "      <td>581</td>\n",
       "      <td>581</td>\n",
       "    </tr>\n",
       "    <tr>\n",
       "      <th>2015</th>\n",
       "      <td>606</td>\n",
       "      <td>606</td>\n",
       "      <td>606</td>\n",
       "    </tr>\n",
       "    <tr>\n",
       "      <th>2016</th>\n",
       "      <td>502</td>\n",
       "      <td>502</td>\n",
       "      <td>502</td>\n",
       "    </tr>\n",
       "  </tbody>\n",
       "</table>\n",
       "</div>"
      ],
      "text/plain": [
       "                 games  user  critic\n",
       "year_of_release                     \n",
       "1980                 9     9       9\n",
       "1981                46    46      46\n",
       "1982                36    36      36\n",
       "1983                17    17      17\n",
       "1984                14    14      14\n",
       "1985                14    14      14\n",
       "1986                21    21      21\n",
       "1987                16    16      16\n",
       "1988                15    15      15\n",
       "1989                17    17      17\n",
       "1990                16    16      16\n",
       "1991                41    41      41\n",
       "1992                43    43      43\n",
       "1993                60    60      60\n",
       "1994               121   121     121\n",
       "1995               219   219     219\n",
       "1996               263   263     263\n",
       "1997               289   289     289\n",
       "1998               379   379     379\n",
       "1999               338   338     338\n",
       "2000               350   350     350\n",
       "2001               482   482     482\n",
       "2002               829   829     829\n",
       "2003               775   775     775\n",
       "2004               762   762     762\n",
       "2005               939   939     939\n",
       "2006              1006  1006    1006\n",
       "2007              1197  1197    1197\n",
       "2008              1427  1427    1427\n",
       "2009              1426  1426    1426\n",
       "2010              1255  1255    1255\n",
       "2011              1136  1136    1136\n",
       "2012               653   653     653\n",
       "2013               544   544     544\n",
       "2014               581   581     581\n",
       "2015               606   606     606\n",
       "2016               502   502     502"
      ]
     },
     "execution_count": 14,
     "metadata": {},
     "output_type": "execute_result"
    }
   ],
   "source": [
    "#Analysis of missing data in critical score and user score.\n",
    "df.groupby('year_of_release').agg(\n",
    "    games=('name', 'count'), \n",
    "    user= ('user_score', 'count'), \n",
    "    critic= ('critic_score', 'count'))\n",
    "\n",
    "#A grouping was made by year showing how many games were released for that year, how many user and critic ratings there were."
   ]
  },
  {
   "cell_type": "markdown",
   "metadata": {},
   "source": [
    "Analyzing the missing values ​​for both the user ratings and the reviews, it can be seen that the vast majority are from many years ago, from 1995 onwards, and although there is still missing data in future years, we can work with the data that is available. Since this is an analysis that has to do with the marketing area, we can conclude that data from such previous years does not affect the present analysis and the decision is made to leave the missing data untreated, and not replace it with some other value such as '0' so as not to affect the analysis of the graphs and there is an erroneous bias. <br><br> Regarding the release year, these values ​​​​cannot be replaced with an average or some other information, since they are exact data that when altered can affect the veracity of the analysis, so the decision is also made to leave the missing data untreated."
   ]
  },
  {
   "cell_type": "code",
   "execution_count": 15,
   "metadata": {},
   "outputs": [
    {
     "data": {
      "text/html": [
       "<div>\n",
       "<style scoped>\n",
       "    .dataframe tbody tr th:only-of-type {\n",
       "        vertical-align: middle;\n",
       "    }\n",
       "\n",
       "    .dataframe tbody tr th {\n",
       "        vertical-align: top;\n",
       "    }\n",
       "\n",
       "    .dataframe thead th {\n",
       "        text-align: right;\n",
       "    }\n",
       "</style>\n",
       "<table border=\"1\" class=\"dataframe\">\n",
       "  <thead>\n",
       "    <tr style=\"text-align: right;\">\n",
       "      <th></th>\n",
       "      <th>name</th>\n",
       "      <th>platform</th>\n",
       "      <th>year_of_release</th>\n",
       "      <th>genre</th>\n",
       "      <th>na_sales</th>\n",
       "      <th>eu_sales</th>\n",
       "      <th>jp_sales</th>\n",
       "      <th>other_sales</th>\n",
       "      <th>critic_score</th>\n",
       "      <th>user_score</th>\n",
       "      <th>rating</th>\n",
       "      <th>total_sales</th>\n",
       "    </tr>\n",
       "  </thead>\n",
       "  <tbody>\n",
       "    <tr>\n",
       "      <th>0</th>\n",
       "      <td>Wii Sports</td>\n",
       "      <td>Wii</td>\n",
       "      <td>2006</td>\n",
       "      <td>Sports</td>\n",
       "      <td>41.36</td>\n",
       "      <td>28.96</td>\n",
       "      <td>3.77</td>\n",
       "      <td>8.45</td>\n",
       "      <td>76.0</td>\n",
       "      <td>8.0</td>\n",
       "      <td>E</td>\n",
       "      <td>82.54</td>\n",
       "    </tr>\n",
       "    <tr>\n",
       "      <th>1</th>\n",
       "      <td>Super Mario Bros.</td>\n",
       "      <td>NES</td>\n",
       "      <td>1985</td>\n",
       "      <td>Platform</td>\n",
       "      <td>29.08</td>\n",
       "      <td>3.58</td>\n",
       "      <td>6.81</td>\n",
       "      <td>0.77</td>\n",
       "      <td>71.0</td>\n",
       "      <td>7.5</td>\n",
       "      <td>NaN</td>\n",
       "      <td>40.24</td>\n",
       "    </tr>\n",
       "    <tr>\n",
       "      <th>2</th>\n",
       "      <td>Mario Kart Wii</td>\n",
       "      <td>Wii</td>\n",
       "      <td>2008</td>\n",
       "      <td>Racing</td>\n",
       "      <td>15.68</td>\n",
       "      <td>12.76</td>\n",
       "      <td>3.79</td>\n",
       "      <td>3.29</td>\n",
       "      <td>82.0</td>\n",
       "      <td>8.3</td>\n",
       "      <td>E</td>\n",
       "      <td>35.52</td>\n",
       "    </tr>\n",
       "    <tr>\n",
       "      <th>3</th>\n",
       "      <td>Wii Sports Resort</td>\n",
       "      <td>Wii</td>\n",
       "      <td>2009</td>\n",
       "      <td>Sports</td>\n",
       "      <td>15.61</td>\n",
       "      <td>10.93</td>\n",
       "      <td>3.28</td>\n",
       "      <td>2.95</td>\n",
       "      <td>80.0</td>\n",
       "      <td>8.0</td>\n",
       "      <td>E</td>\n",
       "      <td>32.77</td>\n",
       "    </tr>\n",
       "    <tr>\n",
       "      <th>4</th>\n",
       "      <td>Pokemon Red/Pokemon Blue</td>\n",
       "      <td>GB</td>\n",
       "      <td>1996</td>\n",
       "      <td>Role-Playing</td>\n",
       "      <td>11.27</td>\n",
       "      <td>8.89</td>\n",
       "      <td>10.22</td>\n",
       "      <td>1.00</td>\n",
       "      <td>71.0</td>\n",
       "      <td>7.5</td>\n",
       "      <td>NaN</td>\n",
       "      <td>31.38</td>\n",
       "    </tr>\n",
       "  </tbody>\n",
       "</table>\n",
       "</div>"
      ],
      "text/plain": [
       "                       name platform  year_of_release         genre  na_sales  \\\n",
       "0                Wii Sports      Wii             2006        Sports     41.36   \n",
       "1         Super Mario Bros.      NES             1985      Platform     29.08   \n",
       "2            Mario Kart Wii      Wii             2008        Racing     15.68   \n",
       "3         Wii Sports Resort      Wii             2009        Sports     15.61   \n",
       "4  Pokemon Red/Pokemon Blue       GB             1996  Role-Playing     11.27   \n",
       "\n",
       "   eu_sales  jp_sales  other_sales  critic_score  user_score rating  \\\n",
       "0     28.96      3.77         8.45          76.0         8.0      E   \n",
       "1      3.58      6.81         0.77          71.0         7.5    NaN   \n",
       "2     12.76      3.79         3.29          82.0         8.3      E   \n",
       "3     10.93      3.28         2.95          80.0         8.0      E   \n",
       "4      8.89     10.22         1.00          71.0         7.5    NaN   \n",
       "\n",
       "   total_sales  \n",
       "0        82.54  \n",
       "1        40.24  \n",
       "2        35.52  \n",
       "3        32.77  \n",
       "4        31.38  "
      ]
     },
     "execution_count": 15,
     "metadata": {},
     "output_type": "execute_result"
    }
   ],
   "source": [
    "# Add up the sales and create a new column with the total sales.\n",
    "\n",
    "df['total_sales']= df['na_sales']+df['eu_sales']+df['jp_sales']+df['other_sales']\n",
    "\n",
    "df.head()"
   ]
  },
  {
   "cell_type": "markdown",
   "metadata": {},
   "source": [
    "### Data Analysis."
   ]
  },
  {
   "cell_type": "markdown",
   "metadata": {},
   "source": [
    "**How many games were released in different years? Is the data for each period significant?**"
   ]
  },
  {
   "cell_type": "code",
   "execution_count": 16,
   "metadata": {},
   "outputs": [
    {
     "data": {
      "text/plain": [
       "<Axes: xlabel='year_of_release'>"
      ]
     },
     "execution_count": 16,
     "metadata": {},
     "output_type": "execute_result"
    },
    {
     "data": {
      "image/png": "[encoded data removed]",
      "text/plain": [
       "<Figure size 640x480 with 1 Axes>"
      ]
     },
     "metadata": {},
     "output_type": "display_data"
    }
   ],
   "source": [
    "#Group data by release year and filter by name\n",
    "\n",
    "df.groupby('year_of_release')['name'].count().sort_values(ascending= False).plot(kind='bar')"
   ]
  },
  {
   "cell_type": "markdown",
   "metadata": {},
   "source": [
    "Truly representative sales data can be found from 1998 onwards, with sales ranging from approximately 400 to 1.4 billion."
   ]
  },
  {
   "cell_type": "markdown",
   "metadata": {},
   "source": [
    "**How do sales vary from one platform to another?**"
   ]
  },
  {
   "cell_type": "code",
   "execution_count": 17,
   "metadata": {},
   "outputs": [
    {
     "data": {
      "text/plain": [
       "<Axes: xlabel='platform'>"
      ]
     },
     "execution_count": 17,
     "metadata": {},
     "output_type": "execute_result"
    },
    {
     "data": {
      "image/png": "[encoded data removed]",
      "text/plain": [
       "<Figure size 640x480 with 1 Axes>"
      ]
     },
     "metadata": {},
     "output_type": "display_data"
    }
   ],
   "source": [
    "#Group data by platform and filter by total sales.\n",
    "\n",
    "df.groupby('platform')['total_sales'].sum().sort_values(ascending= False).plot(kind='bar')"
   ]
  },
  {
   "cell_type": "markdown",
   "metadata": {},
   "source": [
    "The platforms that sell the most video games are PS, DS, Wii, PS3, X360 and PS2, with the PS2 having the highest sales volume and the rest having behaved similarly."
   ]
  },
  {
   "cell_type": "markdown",
   "metadata": {},
   "source": [
    "**Choose the platforms with the highest total sales and build a distribution based on each year's data. Look for platforms that used to be popular but are now losing sales. How long does it typically take for new platforms to appear and old ones to disappear?**"
   ]
  },
  {
   "cell_type": "code",
   "execution_count": 18,
   "metadata": {},
   "outputs": [],
   "source": [
    "#Create a list of the best-selling platforms\n",
    "plataformas= ['PS', 'DS', 'Wii', 'PS3', 'X360', 'PS2'] \n",
    "\n",
    "#Filter the df to consider only the selected platforms, group by release year and platform, and add up the total sales for that grouping.\n",
    "years_platform= df[df['platform'].isin(plataformas)].groupby(['year_of_release','platform'])['total_sales'].sum().reset_index()"
   ]
  },
  {
   "cell_type": "code",
   "execution_count": 19,
   "metadata": {
    "scrolled": true
   },
   "outputs": [
    {
     "data": {
      "text/plain": [
       "<Axes: xlabel='year_of_release', ylabel='total_sales'>"
      ]
     },
     "execution_count": 19,
     "metadata": {},
     "output_type": "execute_result"
    },
    {
     "data": {
      "image/png": "[encoded data removed]",
      "text/plain": [
       "<Figure size 2000x500 with 1 Axes>"
      ]
     },
     "metadata": {},
     "output_type": "display_data"
    }
   ],
   "source": [
    "#Life cycle chart\n",
    "plt.figure(figsize= (20,5))\n",
    "sns.lineplot(data= years_platform, x= 'year_of_release', y= 'total_sales', hue= 'platform')"
   ]
  },
  {
   "cell_type": "code",
   "execution_count": 20,
   "metadata": {},
   "outputs": [
    {
     "data": {
      "text/html": [
       "<div>\n",
       "<style scoped>\n",
       "    .dataframe tbody tr th:only-of-type {\n",
       "        vertical-align: middle;\n",
       "    }\n",
       "\n",
       "    .dataframe tbody tr th {\n",
       "        vertical-align: top;\n",
       "    }\n",
       "\n",
       "    .dataframe thead th {\n",
       "        text-align: right;\n",
       "    }\n",
       "</style>\n",
       "<table border=\"1\" class=\"dataframe\">\n",
       "  <thead>\n",
       "    <tr style=\"text-align: right;\">\n",
       "      <th></th>\n",
       "      <th>first_year</th>\n",
       "      <th>last_year</th>\n",
       "    </tr>\n",
       "    <tr>\n",
       "      <th>platform</th>\n",
       "      <th></th>\n",
       "      <th></th>\n",
       "    </tr>\n",
       "  </thead>\n",
       "  <tbody>\n",
       "    <tr>\n",
       "      <th>DS</th>\n",
       "      <td>1985</td>\n",
       "      <td>2013</td>\n",
       "    </tr>\n",
       "    <tr>\n",
       "      <th>PS</th>\n",
       "      <td>1994</td>\n",
       "      <td>2003</td>\n",
       "    </tr>\n",
       "    <tr>\n",
       "      <th>PS2</th>\n",
       "      <td>2000</td>\n",
       "      <td>2011</td>\n",
       "    </tr>\n",
       "    <tr>\n",
       "      <th>PS3</th>\n",
       "      <td>2006</td>\n",
       "      <td>2016</td>\n",
       "    </tr>\n",
       "    <tr>\n",
       "      <th>Wii</th>\n",
       "      <td>2006</td>\n",
       "      <td>2016</td>\n",
       "    </tr>\n",
       "    <tr>\n",
       "      <th>X360</th>\n",
       "      <td>2005</td>\n",
       "      <td>2016</td>\n",
       "    </tr>\n",
       "  </tbody>\n",
       "</table>\n",
       "</div>"
      ],
      "text/plain": [
       "          first_year  last_year\n",
       "platform                       \n",
       "DS              1985       2013\n",
       "PS              1994       2003\n",
       "PS2             2000       2011\n",
       "PS3             2006       2016\n",
       "Wii             2006       2016\n",
       "X360            2005       2016"
      ]
     },
     "execution_count": 20,
     "metadata": {},
     "output_type": "execute_result"
    }
   ],
   "source": [
    "#Calculate the life cycle\n",
    "\n",
    "cycle= df[df['platform'].isin(plataformas)].groupby('platform').agg(\n",
    "    first_year= ('year_of_release', 'min'),\n",
    "    last_year= ('year_of_release', 'max'))\n",
    "\n",
    "cycle"
   ]
  },
  {
   "cell_type": "markdown",
   "metadata": {},
   "source": [
    "Analyzing the data, we can conclude that between 1995 and 2000, the original PS dominated the market completely, between 2000 and 2005, the PS2 was at its peak, and between 2005 and 2010, there was competition between the Wii, PS3, and Xbox 360. Life cycles tend to last approximately 5-7 years, with newer consoles showing less pronounced but more sustained sales peaks. Finally, we note a clear pattern of overlap between console generations.\n",
    "\n",
    "**Taking this information into account, we decided to work with the most recent 6 years of data, starting in 2011.**\n"
   ]
  },
  {
   "cell_type": "code",
   "execution_count": 21,
   "metadata": {},
   "outputs": [
    {
     "data": {
      "text/html": [
       "<div>\n",
       "<style scoped>\n",
       "    .dataframe tbody tr th:only-of-type {\n",
       "        vertical-align: middle;\n",
       "    }\n",
       "\n",
       "    .dataframe tbody tr th {\n",
       "        vertical-align: top;\n",
       "    }\n",
       "\n",
       "    .dataframe thead th {\n",
       "        text-align: right;\n",
       "    }\n",
       "</style>\n",
       "<table border=\"1\" class=\"dataframe\">\n",
       "  <thead>\n",
       "    <tr style=\"text-align: right;\">\n",
       "      <th></th>\n",
       "      <th>name</th>\n",
       "      <th>platform</th>\n",
       "      <th>year_of_release</th>\n",
       "      <th>genre</th>\n",
       "      <th>na_sales</th>\n",
       "      <th>eu_sales</th>\n",
       "      <th>jp_sales</th>\n",
       "      <th>other_sales</th>\n",
       "      <th>critic_score</th>\n",
       "      <th>user_score</th>\n",
       "      <th>rating</th>\n",
       "      <th>total_sales</th>\n",
       "    </tr>\n",
       "  </thead>\n",
       "  <tbody>\n",
       "    <tr>\n",
       "      <th>16</th>\n",
       "      <td>Grand Theft Auto V</td>\n",
       "      <td>PS3</td>\n",
       "      <td>2013</td>\n",
       "      <td>Action</td>\n",
       "      <td>7.02</td>\n",
       "      <td>9.09</td>\n",
       "      <td>0.98</td>\n",
       "      <td>3.96</td>\n",
       "      <td>97.0</td>\n",
       "      <td>8.2</td>\n",
       "      <td>M</td>\n",
       "      <td>21.05</td>\n",
       "    </tr>\n",
       "    <tr>\n",
       "      <th>23</th>\n",
       "      <td>Grand Theft Auto V</td>\n",
       "      <td>X360</td>\n",
       "      <td>2013</td>\n",
       "      <td>Action</td>\n",
       "      <td>9.66</td>\n",
       "      <td>5.14</td>\n",
       "      <td>0.06</td>\n",
       "      <td>1.41</td>\n",
       "      <td>97.0</td>\n",
       "      <td>8.1</td>\n",
       "      <td>M</td>\n",
       "      <td>16.27</td>\n",
       "    </tr>\n",
       "    <tr>\n",
       "      <th>29</th>\n",
       "      <td>Call of Duty: Modern Warfare 3</td>\n",
       "      <td>X360</td>\n",
       "      <td>2011</td>\n",
       "      <td>Shooter</td>\n",
       "      <td>9.04</td>\n",
       "      <td>4.24</td>\n",
       "      <td>0.13</td>\n",
       "      <td>1.32</td>\n",
       "      <td>88.0</td>\n",
       "      <td>3.4</td>\n",
       "      <td>M</td>\n",
       "      <td>14.73</td>\n",
       "    </tr>\n",
       "    <tr>\n",
       "      <th>31</th>\n",
       "      <td>Call of Duty: Black Ops 3</td>\n",
       "      <td>PS4</td>\n",
       "      <td>2015</td>\n",
       "      <td>Shooter</td>\n",
       "      <td>6.03</td>\n",
       "      <td>5.86</td>\n",
       "      <td>0.36</td>\n",
       "      <td>2.38</td>\n",
       "      <td>71.0</td>\n",
       "      <td>7.5</td>\n",
       "      <td>NaN</td>\n",
       "      <td>14.63</td>\n",
       "    </tr>\n",
       "    <tr>\n",
       "      <th>33</th>\n",
       "      <td>Pokemon X/Pokemon Y</td>\n",
       "      <td>3DS</td>\n",
       "      <td>2013</td>\n",
       "      <td>Role-Playing</td>\n",
       "      <td>5.28</td>\n",
       "      <td>4.19</td>\n",
       "      <td>4.35</td>\n",
       "      <td>0.78</td>\n",
       "      <td>71.0</td>\n",
       "      <td>7.5</td>\n",
       "      <td>NaN</td>\n",
       "      <td>14.60</td>\n",
       "    </tr>\n",
       "  </tbody>\n",
       "</table>\n",
       "</div>"
      ],
      "text/plain": [
       "                              name platform  year_of_release         genre  \\\n",
       "16              Grand Theft Auto V      PS3             2013        Action   \n",
       "23              Grand Theft Auto V     X360             2013        Action   \n",
       "29  Call of Duty: Modern Warfare 3     X360             2011       Shooter   \n",
       "31       Call of Duty: Black Ops 3      PS4             2015       Shooter   \n",
       "33             Pokemon X/Pokemon Y      3DS             2013  Role-Playing   \n",
       "\n",
       "    na_sales  eu_sales  jp_sales  other_sales  critic_score  user_score  \\\n",
       "16      7.02      9.09      0.98         3.96          97.0         8.2   \n",
       "23      9.66      5.14      0.06         1.41          97.0         8.1   \n",
       "29      9.04      4.24      0.13         1.32          88.0         3.4   \n",
       "31      6.03      5.86      0.36         2.38          71.0         7.5   \n",
       "33      5.28      4.19      4.35         0.78          71.0         7.5   \n",
       "\n",
       "   rating  total_sales  \n",
       "16      M        21.05  \n",
       "23      M        16.27  \n",
       "29      M        14.73  \n",
       "31    NaN        14.63  \n",
       "33    NaN        14.60  "
      ]
     },
     "execution_count": 21,
     "metadata": {},
     "output_type": "execute_result"
    }
   ],
   "source": [
    "# Filter the dataframe to account for data from 2011 onwards.\n",
    "\n",
    "df_filter= df[df['year_of_release']>2010]\n",
    "df_filter.head()"
   ]
  },
  {
   "cell_type": "markdown",
   "metadata": {},
   "source": [
    "**With the leaked data, which platforms are leading in sales? Which ones are growing and which ones are declining? Which platforms are potentially profitable?**"
   ]
  },
  {
   "cell_type": "code",
   "execution_count": 22,
   "metadata": {},
   "outputs": [
    {
     "data": {
      "text/plain": [
       "<Axes: xlabel='platform'>"
      ]
     },
     "execution_count": 22,
     "metadata": {},
     "output_type": "execute_result"
    },
    {
     "data": {
      "image/png": "[encoded data removed]",
      "text/plain": [
       "<Figure size 640x480 with 1 Axes>"
      ]
     },
     "metadata": {},
     "output_type": "display_data"
    }
   ],
   "source": [
    "df_filter.groupby('platform')['total_sales'].sum().sort_values(ascending= False).plot(kind='bar')"
   ]
  },
  {
   "cell_type": "markdown",
   "metadata": {},
   "source": [
    "In the last six years, the three best-selling platforms have been the PS3, the Xbox 360, and the PS4. Although the PS3 currently outsells the PS4, the PS4 is considered to have significant potential as it's newer to the market, and it may be a matter of time before it matches or surpasses the PS3. Another console with significant potential is the Xbox One, which was only released in 2013, and based on the average life cycle analysis above, it may be entering its peak.\n",
    "\n",
    "The platforms that have been declining in recent years are the Wii, PSV, DS, PSP, and PS2.\n",
    "\n",
    "I wouldn't consider the PC to be in decline as it's still a popular tool. It's just not the primary source of video game sales, but it doesn't represent great potential or even the majority of sales either. It's a relatively secure source of revenue, but with low sales compared to consoles."
   ]
  },
  {
   "cell_type": "markdown",
   "metadata": {},
   "source": [
    "**Box plot for global sales of all games, broken down by platform. Are the differences in sales significant? What about average sales across platforms?**"
   ]
  },
  {
   "cell_type": "code",
   "execution_count": 23,
   "metadata": {
    "scrolled": true
   },
   "outputs": [
    {
     "data": {
      "text/plain": [
       "<Axes: xlabel='platform', ylabel='total_sales'>"
      ]
     },
     "execution_count": 23,
     "metadata": {},
     "output_type": "execute_result"
    },
    {
     "data": {
      "image/png": "[encoded data removed]",
      "text/plain": [
       "<Figure size 1200x600 with 1 Axes>"
      ]
     },
     "metadata": {},
     "output_type": "display_data"
    }
   ],
   "source": [
    "plt.figure(figsize=(12, 6))\n",
    "sns.boxplot(x='platform', y='total_sales', data=df_filter)"
   ]
  },
  {
   "cell_type": "code",
   "execution_count": 24,
   "metadata": {},
   "outputs": [
    {
     "data": {
      "image/png": "[encoded data removed]",
      "text/plain": [
       "<Figure size 1200x600 with 1 Axes>"
      ]
     },
     "metadata": {},
     "output_type": "display_data"
    }
   ],
   "source": [
    "# Calculate the quartiles and IQR of the total_sales column\n",
    "Q1 = df_filter['total_sales'].quantile(0.25)\n",
    "Q3 = df_filter['total_sales'].quantile(0.75)\n",
    "IQR = Q3 - Q1\n",
    "\n",
    "# Define limits to detect outliers\n",
    "limite_inferior = Q1 - 1.5 * IQR\n",
    "limite_superior = Q3 + 1.5 * IQR\n",
    "\n",
    "#Filter data without outliers\n",
    "df_new = df_filter[(df_filter['total_sales'] >= limite_inferior) & (df_filter['total_sales'] <= limite_superior)]\n",
    "\n",
    "# Redraw the boxplot without outliers\n",
    "plt.figure(figsize=(12, 6))\n",
    "sns.boxplot(x='platform', y='total_sales', data=df_new)\n",
    "plt.show()"
   ]
  },
  {
   "cell_type": "markdown",
   "metadata": {},
   "source": [
    "After removing the most significant outliers, it can be seen that the PS4, PS3, and XOne platforms have a higher median, indicating that they have higher total sales compared to other platforms such as the PS2 and DS, which show much lower sales. The PS2 and PSV have both median and peak values ​​that are significantly lower compared to the other platforms.\n",
    "\n",
    "Platforms that show a higher number of outliers could be of interest for further studies on what factors contribute to these sales spikes."
   ]
  },
  {
   "cell_type": "markdown",
   "metadata": {},
   "source": [
    "**How ​​do user and professional reviews affect PS3 sales?**"
   ]
  },
  {
   "cell_type": "code",
   "execution_count": 25,
   "metadata": {},
   "outputs": [
    {
     "data": {
      "text/plain": [
       "<Axes: xlabel='critic_score', ylabel='total_sales'>"
      ]
     },
     "execution_count": 25,
     "metadata": {},
     "output_type": "execute_result"
    },
    {
     "data": {
      "image/png": "[encoded data removed]",
      "text/plain": [
       "<Figure size 1400x600 with 1 Axes>"
      ]
     },
     "metadata": {},
     "output_type": "display_data"
    }
   ],
   "source": [
    "#Filter the dataset to have data only from the PS3.\n",
    "ps3= df_filter[df_filter['platform']== 'PS3']\n",
    "\n",
    "#Create a scatter plot for each review type.\n",
    "\n",
    "#Critic Score \n",
    "plt.figure(figsize=(14, 6))\n",
    "sns.scatterplot(x='critic_score', y='total_sales', data= ps3)\n"
   ]
  },
  {
   "cell_type": "markdown",
   "metadata": {},
   "source": [
    "**Critic Score**: From this relationship, we can see a slight positive trend: as the critical score increases, sales also increase somewhat. Most PS3 game sales are centered between 0 and 5 million, regardless of the critical score. The dispersion of the data increases noticeably in the high critical score region, suggesting that good reviews do not guarantee high sales, although they do increase the likelihood of achieving them."
   ]
  },
  {
   "cell_type": "code",
   "execution_count": 26,
   "metadata": {},
   "outputs": [
    {
     "data": {
      "text/plain": [
       "<Axes: xlabel='user_score', ylabel='total_sales'>"
      ]
     },
     "execution_count": 26,
     "metadata": {},
     "output_type": "execute_result"
    },
    {
     "data": {
      "image/png": "[encoded data removed]",
      "text/plain": [
       "<Figure size 1400x600 with 1 Axes>"
      ]
     },
     "metadata": {},
     "output_type": "display_data"
    }
   ],
   "source": [
    "#User Score \n",
    "\n",
    "plt.figure(figsize=(14, 6))\n",
    "sns.scatterplot(x='user_score', y='total_sales', data= ps3)\n"
   ]
  },
  {
   "cell_type": "markdown",
   "metadata": {},
   "source": [
    "As with the critical score, there is an upward trend, although it is not a completely linear relationship. A notable difference is that high sales, or sales outside the majority threshold, are observed even when the user score is relatively low; this behavior is not reflected in the critical score. Therefore, one could conclude that the user score has less of an impact on sales than the critical score, at least in the case of the PS3. In both cases, although a higher user score can contribute to higher sales, it is not an absolute determining factor."
   ]
  },
  {
   "cell_type": "markdown",
   "metadata": {},
   "source": [
    "**Regarding the overall distribution of games by genre, what can be said about the most profitable genres? Can we generalize about genres with high and low sales?**"
   ]
  },
  {
   "cell_type": "code",
   "execution_count": 27,
   "metadata": {},
   "outputs": [
    {
     "data": {
      "text/plain": [
       "<Axes: xlabel='genre'>"
      ]
     },
     "execution_count": 27,
     "metadata": {},
     "output_type": "execute_result"
    },
    {
     "data": {
      "image/png": "[encoded data removed]",
      "text/plain": [
       "<Figure size 640x480 with 1 Axes>"
      ]
     },
     "metadata": {},
     "output_type": "display_data"
    }
   ],
   "source": [
    "#Group the dataset by gender and display sales.\n",
    "df_filter.groupby('genre')['total_sales'].sum().sort_values(ascending= False).plot(kind='bar')"
   ]
  },
  {
   "cell_type": "markdown",
   "metadata": {},
   "source": [
    "In general, action and shooter genres are the most profitable due to their high sales, while genres like strategy and puzzle are less in-demand and therefore generate less revenue.\n",
    "Analyzing this, a pattern can be identified in the two best-selling genres, action and shooter. Both are fast-paced games with typically very dynamic visuals, and on some level, shooters could be classified as a subgenre of action.\n",
    "\n",
    "The lowest-selling genres, like adventure, strategy, and puzzle, are fairly calm and, one might say, slow or relaxing."
   ]
  },
  {
   "cell_type": "markdown",
   "metadata": {},
   "source": [
    "### Analyze data by region."
   ]
  },
  {
   "cell_type": "code",
   "execution_count": 28,
   "metadata": {},
   "outputs": [
    {
     "data": {
      "text/plain": [
       "<Axes: xlabel='platform'>"
      ]
     },
     "execution_count": 28,
     "metadata": {},
     "output_type": "execute_result"
    },
    {
     "data": {
      "image/png": "[encoded data removed]",
      "text/plain": [
       "<Figure size 640x480 with 1 Axes>"
      ]
     },
     "metadata": {},
     "output_type": "display_data"
    }
   ],
   "source": [
    "# Filter the dataset by region and display the percentage that each platform represents of sales.\n",
    "\n",
    "#United States\n",
    "\n",
    "us_sales= df_filter['na_sales'].sum()\n",
    "\n",
    "us_filter= df_filter.groupby(['platform'])['na_sales'].sum().sort_values(ascending= False)\n",
    "\n",
    "us_total= us_filter*100/us_sales\n",
    "\n",
    "us_total.plot(kind='bar')"
   ]
  },
  {
   "cell_type": "code",
   "execution_count": 29,
   "metadata": {},
   "outputs": [
    {
     "data": {
      "text/plain": [
       "<Axes: xlabel='platform'>"
      ]
     },
     "execution_count": 29,
     "metadata": {},
     "output_type": "execute_result"
    },
    {
     "data": {
      "image/png": "[encoded data removed]",
      "text/plain": [
       "<Figure size 640x480 with 1 Axes>"
      ]
     },
     "metadata": {},
     "output_type": "display_data"
    }
   ],
   "source": [
    "#Europe\n",
    "\n",
    "ue_sales= df_filter['eu_sales'].sum()\n",
    "\n",
    "ue_filter= df_filter.groupby(['platform'])['eu_sales'].sum().sort_values(ascending= False)\n",
    "\n",
    "ue_total= ue_filter*100/ue_sales\n",
    "\n",
    "ue_total.plot(kind='bar')"
   ]
  },
  {
   "cell_type": "code",
   "execution_count": 30,
   "metadata": {},
   "outputs": [
    {
     "data": {
      "text/plain": [
       "<Axes: xlabel='platform'>"
      ]
     },
     "execution_count": 30,
     "metadata": {},
     "output_type": "execute_result"
    },
    {
     "data": {
      "image/png": "[encoded data removed]",
      "text/plain": [
       "<Figure size 640x480 with 1 Axes>"
      ]
     },
     "metadata": {},
     "output_type": "display_data"
    }
   ],
   "source": [
    "#Japan\n",
    "jp_sales= df_filter['jp_sales'].sum()\n",
    "\n",
    "jp_filter= df_filter.groupby(['platform'])['jp_sales'].sum().sort_values(ascending= False)\n",
    "\n",
    "jp_total= jp_filter*100/jp_sales\n",
    "\n",
    "jp_total.plot(kind='bar')"
   ]
  },
  {
   "cell_type": "markdown",
   "metadata": {},
   "source": [
    "**Market Share Analysis**:\n",
    "In the United States, the Xbox 360 and PlayStation 3 dominate the market, with the Xbox 360 in first place, followed by the PS3 with only a 5-point difference, and the PS4 in third place. One possible reason for this could be that the Xbox 360 is American-made (Microsoft) and was promoted with exclusive market knowledge.\n",
    "\n",
    "In Europe, the PS3 and PS4 lead the market with very little difference between them, with the Xbox 360 in third place. This shows the cultural difference and how a good analysis and marketing campaign can affect preferences. It would even be necessary to analyze the possible language barriers that the Xbox 360 franchises may have in Europe.\n",
    "\n",
    "In Japan, the Nintendo 3DS leads the market by a wide margin, accounting for almost half of sales, followed by the PS3 and PSP. We note that Japan has a notable preference for handheld consoles, and Nintendo is a Japanese brand with a long tradition in the local market. Xbox's low popularity in Japan may be due to the lack of games geared toward Japanese audiences and strong competition from local brands like Nintendo and Sony, which better understand the tastes and preferences of Japanese gamers."
   ]
  },
  {
   "cell_type": "markdown",
   "metadata": {},
   "source": [
    "**Gender analysis by region**"
   ]
  },
  {
   "cell_type": "code",
   "execution_count": 31,
   "metadata": {},
   "outputs": [
    {
     "data": {
      "text/plain": [
       "<Axes: xlabel='genre'>"
      ]
     },
     "execution_count": 31,
     "metadata": {},
     "output_type": "execute_result"
    },
    {
     "data": {
      "image/png": "[encoded data removed]",
      "text/plain": [
       "<Figure size 640x480 with 1 Axes>"
      ]
     },
     "metadata": {},
     "output_type": "display_data"
    }
   ],
   "source": [
    "# Filter the dataset by region and analyze the main genres in each.\n",
    "\n",
    "#United States\n",
    "\n",
    "df_filter.groupby(['genre']).sum()[['na_sales', 'eu_sales', 'jp_sales']].plot(kind='bar')"
   ]
  },
  {
   "cell_type": "markdown",
   "metadata": {},
   "source": [
    "In both the United States and Europe, action and shooting games account for the vast majority of the market, which is consistent with the previous analysis of genres. Sports and role-playing games would follow in order, however, it's worth noting that in Japan, role-playing games outnumber action games.\n",
    "The remaining categories are not as representative by region, although it would be interesting to analyze Misc and see how to categorize these games, as they have a high sales value."
   ]
  },
  {
   "cell_type": "markdown",
   "metadata": {},
   "source": [
    "**Do ESRB ratings affect sales in individual regions?**"
   ]
  },
  {
   "cell_type": "code",
   "execution_count": 32,
   "metadata": {},
   "outputs": [
    {
     "data": {
      "text/plain": [
       "<Axes: xlabel='rating'>"
      ]
     },
     "execution_count": 32,
     "metadata": {},
     "output_type": "execute_result"
    },
    {
     "data": {
      "image/png": "[encoded data removed]",
      "text/plain": [
       "<Figure size 1000x600 with 1 Axes>"
      ]
     },
     "metadata": {},
     "output_type": "display_data"
    }
   ],
   "source": [
    "esrb_sales = df_filter.groupby(['rating']).sum()[['na_sales', 'eu_sales', 'jp_sales']]\n",
    "\n",
    "esrb_sales.plot(kind='bar', figsize=(10, 6))"
   ]
  },
  {
   "cell_type": "markdown",
   "metadata": {},
   "source": [
    "To understand the analysis, let's start by defining the meaning of each classification. <br>\n",
    "E: Everyone <br>\n",
    "E10+: Everyone ages 10 and up. <br>\n",
    "EC: All children ages 3 and up. <br>\n",
    "M: Adults. <br>\n",
    "RP: Classification pending. <br>\n",
    "T: Teens. <br>\n",
    "\n",
    "Knowing this, we can see that games suitable for everyone generally have a good sales level in all regions. However, in Europe and the United States, they are not the highest, but neither are they the lowest. In Japan, however, it is the best-selling genre, followed by teens. Therefore, we could say that the games sold in Japan are mostly suitable for families, with a high tendency to be used by teens.\n",
    "\n",
    "In the case of Europe and the United States, the best-selling classification is adult, with a significant difference from the other categories, which makes perfect sense considering that the best-selling genre in this region is action.\n",
    "\n",
    "For E10+, it represents a portion of sales in all regions, with a downward trend compared to the other countries. And the CE classification and those not yet classified do not represent a significant percentage of sales in all regions.\n",
    "\n",
    "Ultimately, classifications do affect sales."
   ]
  },
  {
   "cell_type": "markdown",
   "metadata": {},
   "source": [
    "### Hypothesis Testing."
   ]
  },
  {
   "cell_type": "markdown",
   "metadata": {},
   "source": [
    "**Null Hypothesis 1**:<br>\n",
    "The average user ratings for the Xbox One and PC platforms are the same.<br>\n",
    "**Alternative Hypothesis 1**: <br>\n",
    "The average user ratings for the Xbox One and PC platforms are different.<br>\n",
    "**Alpha**: 5%"
   ]
  },
  {
   "cell_type": "code",
   "execution_count": 33,
   "metadata": {},
   "outputs": [
    {
     "name": "stdout",
     "output_type": "stream",
     "text": [
      "Levene's test for equality of variances:\n",
      "p-value: 0.04047195246821687\n",
      "p-value prueba t: 0.26137995876219233\n",
      "The null hypothesis cannot be rejected: There is insufficient evidence to suggest that the mean grades are different.\n"
     ]
    }
   ],
   "source": [
    "# Filter the information to obtain ratings by platform\n",
    "\n",
    "score_xone= df_new[df_new['platform']=='XOne']['user_score'].dropna()\n",
    "\n",
    "score_pc= df_new[df_new['platform']=='PC']['user_score'].dropna()\n",
    "\n",
    "#Levene Test: \n",
    "\n",
    "p_levene = st.levene(score_xone, score_pc)\n",
    "print(\"Levene's test for equality of variances:\")\n",
    "print(\"p-value:\", p_levene.pvalue)\n",
    "\n",
    "#T-Test: \n",
    "\n",
    "alpha= 0.05\n",
    "prueba_t= st.ttest_ind(score_xone, score_pc, equal_var= False)\n",
    "print (\"p-value prueba t:\", prueba_t.pvalue)\n",
    "if prueba_t.pvalue < alpha:\n",
    "    print(\"We reject the null hypothesis: Average user ratings for Xbox One and PC are different.\")\n",
    "else:\n",
    "    print(\"The null hypothesis cannot be rejected: There is insufficient evidence to suggest that the mean grades are different.\")"
   ]
  },
  {
   "cell_type": "markdown",
   "metadata": {},
   "source": [
    "Since we want to verify that the average user ratings for Xone and PC are the same, we first pose this option as the null hypothesis, since we must always seek equality. Then we perform the Levene test, which helps us determine whether the variances are equal or different. This is important since the test we are going to perform to test our hypothesis assumes that both variables have the same variance. If they do not, we must inform the user so that the calculations can be performed correctly.\n",
    "\n",
    "Then we proceed to perform the test, indicating the previous result, that is, that the variances are different. This test gives us a probability value above the significance level, so we cannot reject the null hypothesis. "
   ]
  },
  {
   "cell_type": "markdown",
   "metadata": {},
   "source": [
    "**Null Hypothesis 2**:<br>\n",
    "The average user ratings for the Action and Sports genres are the same.<br>\n",
    "**Alternative Hypothesis 2**: <br>\n",
    "The average user ratings for the Action and Sports genres are different.<br>\n",
    "**Alpha**: 5%"
   ]
  },
  {
   "cell_type": "code",
   "execution_count": 34,
   "metadata": {},
   "outputs": [
    {
     "name": "stdout",
     "output_type": "stream",
     "text": [
      "Levene's test for equality of variances:\n",
      "p-value: 4.493928049792339e-17\n",
      "p-value prueba t: 3.4203368340451813e-20\n",
      "We reject the null hypothesis: Average user ratings for Action and Sports are different.\n"
     ]
    }
   ],
   "source": [
    "score_action= df_new[df_new['genre']=='Action']['user_score'].dropna()\n",
    "\n",
    "score_sports= df_new[df_new['genre']=='Sports']['user_score'].dropna()\n",
    "\n",
    "#Prueba de Levene: \n",
    "\n",
    "p_levene = st.levene(score_action, score_sports)\n",
    "print(\"Levene's test for equality of variances:\")\n",
    "print(\"p-value:\", p_levene.pvalue)\n",
    "\n",
    "#Prueba T: \n",
    "\n",
    "alpha= 0.05\n",
    "prueba_t= st.ttest_ind(score_action, score_sports)\n",
    "print (\"p-value prueba t:\", prueba_t.pvalue)\n",
    "if prueba_t.pvalue < alpha:\n",
    "    print(\"We reject the null hypothesis: Average user ratings for Action and Sports are different.\")\n",
    "else:\n",
    "    print(\"The null hypothesis cannot be rejected: There is insufficient evidence to suggest that the mean grades are different.\")"
   ]
  },
  {
   "cell_type": "markdown",
   "metadata": {},
   "source": [
    "In this case, the hypothesis to be tested was \"The average user ratings for the Action and Sports genres are different.\" Therefore, we established equality as the null hypothesis.\n",
    "Levene's test was well above 0.05, so it can be assumed that the variances are homogeneous. There's no need to change the equal_var, which defaults to True.\n",
    "\n",
    "Finally, the null hypothesis is rejected because the p value is greater than the given alpha value.\n"
   ]
  },
  {
   "cell_type": "markdown",
   "metadata": {},
   "source": [
    "## Conclusions "
   ]
  },
  {
   "cell_type": "markdown",
   "metadata": {},
   "source": [
    "We can conclude that the leading platforms in sales over the last six years have been PS3, Xbox 360, and PS4. Although PS3 remains ahead of PS4, the latter shows great potential due to its newer nature and could match or surpass PS3 in the future. Xbox One, launched in 2013, also has a favorable life cycle and could be entering its strongest growth phase. On the other hand, consoles such as Wii, PSV, DS, PSP, and PS2 are in decline, indicating that they are not a strong bet for future campaigns. The PC, while not a standout in sales, is a relatively stable source of revenue, albeit with limited potential compared to consoles. <br>\n",
    "\n",
    "The analysis shows that while good game reviews (critic scores) can increase sales, they do not always guarantee commercial success. PS3 games, for example, typically sell between 0 and 5 million units regardless of their critical score, and while games with high scores have a greater sales dispersion, this indicates that other factors (such as the popularity of the franchise or the platform) are equally or more important. <br>\n",
    "\n",
    "For 2017 marketing campaigns, it is recommended to prioritize PS4 and Xbox One, as both platforms show high growth potential due to their recent launch and favorable life cycle. In the United States, where Xbox 360 and PS3 dominate, it would be strategic to leverage local affinity for Xbox and PS3 loyalty by promoting PS4 and Xbox One releases to stimulate a shift to the newer consoles. In Europe, where PS3 and PS4 lead the market, it would be wise to maintain the strong PlayStation brand presence while expanding PS4 releases. In Japan, it's key to focus on handheld consoles like the Nintendo 3DS and games that cater to the preference for family and role-playing games, given the dominance of Nintendo and Sony in the region. <br>\n",
    "\n",
    "In terms of genres, action and shooter games, which lead sales in the United States and Europe, should be the focus of campaigns in these regions, while in Japan, it's key to give more visibility to role-playing games, which are more popular there. Age ratings also influence sales: in Japan, family and teen games are more popular, while in Europe and the United States, adult games dominate, aligned with the preference for action genres. Considering these cultural and rating differences when designing campaigns can maximize the impact of launches in each market.\n"
   ]
  }
 ],
 "metadata": {
  "ExecuteTimeLog": [
   {
    "duration": 2564,
    "start_time": "2024-10-26T21:03:56.478Z"
   },
   {
    "duration": 57,
    "start_time": "2024-10-26T21:05:48.797Z"
   },
   {
    "duration": 3,
    "start_time": "2024-10-26T21:07:40.491Z"
   },
   {
    "duration": 50,
    "start_time": "2024-10-26T21:08:20.798Z"
   },
   {
    "duration": 12,
    "start_time": "2024-10-26T21:09:41.169Z"
   },
   {
    "duration": 156,
    "start_time": "2024-10-28T23:37:27.585Z"
   },
   {
    "duration": 2554,
    "start_time": "2024-10-28T23:37:36.678Z"
   },
   {
    "duration": 63,
    "start_time": "2024-10-28T23:37:39.234Z"
   },
   {
    "duration": 12,
    "start_time": "2024-10-28T23:37:39.298Z"
   },
   {
    "duration": 3,
    "start_time": "2024-10-28T23:37:39.312Z"
   },
   {
    "duration": 562,
    "start_time": "2024-10-28T23:44:20.397Z"
   },
   {
    "duration": 283,
    "start_time": "2024-10-28T23:44:50.094Z"
   },
   {
    "duration": 3,
    "start_time": "2024-10-28T23:45:25.281Z"
   },
   {
    "duration": 4,
    "start_time": "2024-10-28T23:45:29.507Z"
   },
   {
    "duration": 243,
    "start_time": "2024-10-28T23:53:22.842Z"
   },
   {
    "duration": 101,
    "start_time": "2024-10-28T23:55:59.457Z"
   },
   {
    "duration": 53,
    "start_time": "2024-10-28T23:56:36.007Z"
   },
   {
    "duration": 52,
    "start_time": "2024-10-29T00:05:01.498Z"
   },
   {
    "duration": 8,
    "start_time": "2024-10-29T00:08:09.870Z"
   },
   {
    "duration": 11,
    "start_time": "2024-10-29T00:13:34.761Z"
   },
   {
    "duration": 8,
    "start_time": "2024-10-29T00:15:04.001Z"
   },
   {
    "duration": 4,
    "start_time": "2024-10-29T00:31:43.613Z"
   },
   {
    "duration": 59,
    "start_time": "2024-10-29T00:34:14.446Z"
   },
   {
    "duration": 4,
    "start_time": "2024-10-29T00:37:05.111Z"
   },
   {
    "duration": 4,
    "start_time": "2024-10-29T00:37:45.245Z"
   },
   {
    "duration": 5,
    "start_time": "2024-10-29T00:37:59.721Z"
   },
   {
    "duration": 5,
    "start_time": "2024-10-29T00:40:58.464Z"
   },
   {
    "duration": 6,
    "start_time": "2024-10-29T00:42:16.067Z"
   },
   {
    "duration": 4,
    "start_time": "2024-10-29T00:42:18.513Z"
   },
   {
    "duration": 7,
    "start_time": "2024-10-29T00:52:34.119Z"
   },
   {
    "duration": 9,
    "start_time": "2024-10-29T00:52:46.494Z"
   },
   {
    "duration": 6,
    "start_time": "2024-10-29T00:54:36.442Z"
   },
   {
    "duration": 12,
    "start_time": "2024-10-29T00:55:13.069Z"
   },
   {
    "duration": 396,
    "start_time": "2024-10-29T00:59:21.450Z"
   },
   {
    "duration": 49,
    "start_time": "2024-10-29T00:59:46.018Z"
   },
   {
    "duration": 14,
    "start_time": "2024-10-29T01:00:49.145Z"
   },
   {
    "duration": 11,
    "start_time": "2024-10-29T01:01:16.786Z"
   },
   {
    "duration": 4,
    "start_time": "2024-10-29T01:11:14.537Z"
   },
   {
    "duration": 4,
    "start_time": "2024-10-29T01:11:29.048Z"
   },
   {
    "duration": 3,
    "start_time": "2024-10-29T01:11:34.488Z"
   },
   {
    "duration": 110,
    "start_time": "2024-10-29T01:15:14.193Z"
   },
   {
    "duration": 27,
    "start_time": "2024-10-29T01:15:33.963Z"
   },
   {
    "duration": 17,
    "start_time": "2024-10-29T01:15:47.148Z"
   },
   {
    "duration": 15,
    "start_time": "2024-10-29T01:19:57.232Z"
   },
   {
    "duration": 16,
    "start_time": "2024-10-29T01:21:34.031Z"
   },
   {
    "duration": 16,
    "start_time": "2024-10-29T01:21:43.560Z"
   },
   {
    "duration": 17,
    "start_time": "2024-10-29T01:21:47.675Z"
   },
   {
    "duration": 2,
    "start_time": "2024-10-29T01:32:35.379Z"
   },
   {
    "duration": 10,
    "start_time": "2024-10-29T01:46:18.994Z"
   },
   {
    "duration": 4,
    "start_time": "2024-10-29T01:47:08.789Z"
   },
   {
    "duration": 13,
    "start_time": "2024-10-29T01:47:14.356Z"
   },
   {
    "duration": 2497,
    "start_time": "2024-10-30T00:27:03.819Z"
   },
   {
    "duration": 64,
    "start_time": "2024-10-30T00:27:06.318Z"
   },
   {
    "duration": 12,
    "start_time": "2024-10-30T00:27:06.384Z"
   },
   {
    "duration": 4,
    "start_time": "2024-10-30T00:27:06.398Z"
   },
   {
    "duration": 3,
    "start_time": "2024-10-30T00:27:06.404Z"
   },
   {
    "duration": 15,
    "start_time": "2024-10-30T00:27:06.409Z"
   },
   {
    "duration": 5,
    "start_time": "2024-10-30T00:27:06.426Z"
   },
   {
    "duration": 12,
    "start_time": "2024-10-30T00:27:06.432Z"
   },
   {
    "duration": 7,
    "start_time": "2024-10-30T00:27:06.445Z"
   },
   {
    "duration": 11,
    "start_time": "2024-10-30T00:27:06.454Z"
   },
   {
    "duration": 10,
    "start_time": "2024-10-30T00:27:06.466Z"
   },
   {
    "duration": 47,
    "start_time": "2024-10-30T00:27:06.478Z"
   },
   {
    "duration": 13,
    "start_time": "2024-10-30T00:27:06.526Z"
   },
   {
    "duration": 8,
    "start_time": "2024-10-30T00:28:27.947Z"
   },
   {
    "duration": 267,
    "start_time": "2024-10-30T00:28:54.655Z"
   },
   {
    "duration": 213,
    "start_time": "2024-10-30T00:29:29.039Z"
   },
   {
    "duration": 3,
    "start_time": "2024-10-30T00:32:34.427Z"
   },
   {
    "duration": 2,
    "start_time": "2024-10-30T00:32:52.170Z"
   },
   {
    "duration": 212,
    "start_time": "2024-10-30T00:36:06.212Z"
   },
   {
    "duration": 7,
    "start_time": "2024-10-30T00:41:11.914Z"
   },
   {
    "duration": 186,
    "start_time": "2024-10-30T00:45:09.847Z"
   },
   {
    "duration": 11,
    "start_time": "2024-10-30T01:10:39.088Z"
   },
   {
    "duration": 14,
    "start_time": "2024-10-30T01:17:29.542Z"
   },
   {
    "duration": 229,
    "start_time": "2024-10-30T01:18:22.022Z"
   },
   {
    "duration": 8,
    "start_time": "2024-10-30T01:18:29.231Z"
   },
   {
    "duration": 9,
    "start_time": "2024-10-30T01:18:37.011Z"
   },
   {
    "duration": 15,
    "start_time": "2024-10-30T01:18:38.793Z"
   },
   {
    "duration": 201,
    "start_time": "2024-10-30T01:22:29.333Z"
   },
   {
    "duration": 221,
    "start_time": "2024-10-30T01:22:47.435Z"
   },
   {
    "duration": 187,
    "start_time": "2024-10-30T01:23:18.867Z"
   },
   {
    "duration": 6,
    "start_time": "2024-10-30T01:23:29.662Z"
   },
   {
    "duration": 35,
    "start_time": "2024-10-30T01:23:32.900Z"
   },
   {
    "duration": 37,
    "start_time": "2024-10-30T01:23:41.448Z"
   },
   {
    "duration": 3,
    "start_time": "2024-10-30T01:23:48.065Z"
   },
   {
    "duration": 225,
    "start_time": "2024-10-30T01:24:05.764Z"
   },
   {
    "duration": 5,
    "start_time": "2024-10-30T01:56:49.446Z"
   },
   {
    "duration": 108,
    "start_time": "2024-10-30T01:57:03.169Z"
   },
   {
    "duration": 16,
    "start_time": "2024-10-30T01:57:09.889Z"
   },
   {
    "duration": 10,
    "start_time": "2024-10-30T01:57:25.612Z"
   },
   {
    "duration": 14,
    "start_time": "2024-10-30T01:57:34.861Z"
   },
   {
    "duration": 13,
    "start_time": "2024-10-30T02:02:08.600Z"
   },
   {
    "duration": 121,
    "start_time": "2024-10-30T02:14:36.279Z"
   },
   {
    "duration": 111,
    "start_time": "2024-10-30T02:14:55.043Z"
   },
   {
    "duration": 16,
    "start_time": "2024-10-30T02:27:29.234Z"
   },
   {
    "duration": 23,
    "start_time": "2024-10-30T02:27:41.033Z"
   },
   {
    "duration": 205,
    "start_time": "2024-10-30T02:31:26.523Z"
   },
   {
    "duration": 71,
    "start_time": "2024-10-30T02:31:41.863Z"
   },
   {
    "duration": 203,
    "start_time": "2024-10-30T02:35:25.438Z"
   },
   {
    "duration": 21,
    "start_time": "2024-10-30T02:57:39.533Z"
   },
   {
    "duration": 3,
    "start_time": "2024-10-30T03:00:08.411Z"
   },
   {
    "duration": 107,
    "start_time": "2024-10-30T03:03:58.631Z"
   },
   {
    "duration": 93,
    "start_time": "2024-10-30T03:04:32.579Z"
   },
   {
    "duration": 105,
    "start_time": "2024-10-30T03:04:52.459Z"
   },
   {
    "duration": 128,
    "start_time": "2024-10-30T03:04:59.792Z"
   },
   {
    "duration": 123,
    "start_time": "2024-10-30T03:05:59.514Z"
   },
   {
    "duration": 2695,
    "start_time": "2024-10-31T00:34:44.120Z"
   },
   {
    "duration": 65,
    "start_time": "2024-10-31T00:34:46.818Z"
   },
   {
    "duration": 12,
    "start_time": "2024-10-31T00:34:46.885Z"
   },
   {
    "duration": 4,
    "start_time": "2024-10-31T00:34:46.908Z"
   },
   {
    "duration": 4,
    "start_time": "2024-10-31T00:34:46.915Z"
   },
   {
    "duration": 4,
    "start_time": "2024-10-31T00:34:46.921Z"
   },
   {
    "duration": 5,
    "start_time": "2024-10-31T00:34:46.927Z"
   },
   {
    "duration": 12,
    "start_time": "2024-10-31T00:34:46.934Z"
   },
   {
    "duration": 8,
    "start_time": "2024-10-31T00:34:46.948Z"
   },
   {
    "duration": 12,
    "start_time": "2024-10-31T00:34:46.958Z"
   },
   {
    "duration": 11,
    "start_time": "2024-10-31T00:34:47.009Z"
   },
   {
    "duration": 16,
    "start_time": "2024-10-31T00:34:47.023Z"
   },
   {
    "duration": 14,
    "start_time": "2024-10-31T00:34:47.042Z"
   },
   {
    "duration": 313,
    "start_time": "2024-10-31T00:34:47.057Z"
   },
   {
    "duration": 226,
    "start_time": "2024-10-31T00:34:47.372Z"
   },
   {
    "duration": 19,
    "start_time": "2024-10-31T00:34:47.600Z"
   },
   {
    "duration": 273,
    "start_time": "2024-10-31T00:34:47.621Z"
   },
   {
    "duration": 20,
    "start_time": "2024-10-31T00:34:47.896Z"
   },
   {
    "duration": 14,
    "start_time": "2024-10-31T00:34:47.919Z"
   },
   {
    "duration": 127,
    "start_time": "2024-10-31T00:34:47.936Z"
   },
   {
    "duration": 297,
    "start_time": "2024-10-31T00:34:48.066Z"
   },
   {
    "duration": 145,
    "start_time": "2024-10-31T00:34:48.365Z"
   },
   {
    "duration": 141,
    "start_time": "2024-10-31T00:34:48.512Z"
   },
   {
    "duration": 134,
    "start_time": "2024-10-31T01:01:22.277Z"
   },
   {
    "duration": 200,
    "start_time": "2024-10-31T01:01:38.713Z"
   },
   {
    "duration": 223,
    "start_time": "2024-10-31T01:01:54.758Z"
   },
   {
    "duration": 3,
    "start_time": "2024-10-31T01:23:55.633Z"
   },
   {
    "duration": 8,
    "start_time": "2024-10-31T01:45:27.944Z"
   },
   {
    "duration": 131,
    "start_time": "2024-10-31T01:45:40.019Z"
   },
   {
    "duration": 148,
    "start_time": "2024-10-31T01:45:47.108Z"
   },
   {
    "duration": 119,
    "start_time": "2024-10-31T01:46:48.961Z"
   },
   {
    "duration": 22,
    "start_time": "2024-10-31T01:47:17.721Z"
   },
   {
    "duration": 119,
    "start_time": "2024-10-31T01:47:40.694Z"
   },
   {
    "duration": 117,
    "start_time": "2024-10-31T01:48:13.747Z"
   },
   {
    "duration": 130,
    "start_time": "2024-10-31T01:48:58.469Z"
   },
   {
    "duration": 2,
    "start_time": "2024-10-31T02:01:27.676Z"
   },
   {
    "duration": 196,
    "start_time": "2024-10-31T02:13:53.179Z"
   },
   {
    "duration": 131,
    "start_time": "2024-10-31T02:14:51.566Z"
   },
   {
    "duration": 6,
    "start_time": "2024-10-31T02:16:14.369Z"
   },
   {
    "duration": 141,
    "start_time": "2024-10-31T02:16:28.479Z"
   },
   {
    "duration": 13,
    "start_time": "2024-10-31T02:35:17.616Z"
   },
   {
    "duration": 129,
    "start_time": "2024-10-31T02:37:40.562Z"
   },
   {
    "duration": 7,
    "start_time": "2024-10-31T02:40:33.748Z"
   },
   {
    "duration": 152,
    "start_time": "2024-10-31T02:40:52.110Z"
   },
   {
    "duration": 2569,
    "start_time": "2024-10-31T22:23:51.235Z"
   },
   {
    "duration": 64,
    "start_time": "2024-10-31T22:23:53.806Z"
   },
   {
    "duration": 11,
    "start_time": "2024-10-31T22:23:53.872Z"
   },
   {
    "duration": 4,
    "start_time": "2024-10-31T22:23:53.885Z"
   },
   {
    "duration": 4,
    "start_time": "2024-10-31T22:23:53.891Z"
   },
   {
    "duration": 4,
    "start_time": "2024-10-31T22:23:53.897Z"
   },
   {
    "duration": 5,
    "start_time": "2024-10-31T22:23:53.903Z"
   },
   {
    "duration": 12,
    "start_time": "2024-10-31T22:23:53.909Z"
   },
   {
    "duration": 7,
    "start_time": "2024-10-31T22:23:53.923Z"
   },
   {
    "duration": 10,
    "start_time": "2024-10-31T22:23:53.933Z"
   },
   {
    "duration": 51,
    "start_time": "2024-10-31T22:23:53.945Z"
   },
   {
    "duration": 15,
    "start_time": "2024-10-31T22:23:53.998Z"
   },
   {
    "duration": 13,
    "start_time": "2024-10-31T22:23:54.014Z"
   },
   {
    "duration": 249,
    "start_time": "2024-10-31T22:23:54.028Z"
   },
   {
    "duration": 250,
    "start_time": "2024-10-31T22:23:54.280Z"
   },
   {
    "duration": 9,
    "start_time": "2024-10-31T22:23:54.533Z"
   },
   {
    "duration": 264,
    "start_time": "2024-10-31T22:23:54.544Z"
   },
   {
    "duration": 13,
    "start_time": "2024-10-31T22:23:54.810Z"
   },
   {
    "duration": 11,
    "start_time": "2024-10-31T22:23:54.825Z"
   },
   {
    "duration": 122,
    "start_time": "2024-10-31T22:23:54.838Z"
   },
   {
    "duration": 216,
    "start_time": "2024-10-31T22:23:54.961Z"
   },
   {
    "duration": 142,
    "start_time": "2024-10-31T22:23:55.179Z"
   },
   {
    "duration": 137,
    "start_time": "2024-10-31T22:23:55.323Z"
   },
   {
    "duration": 147,
    "start_time": "2024-10-31T22:23:55.462Z"
   },
   {
    "duration": 123,
    "start_time": "2024-10-31T22:23:55.611Z"
   },
   {
    "duration": 125,
    "start_time": "2024-10-31T22:23:55.736Z"
   },
   {
    "duration": 137,
    "start_time": "2024-10-31T22:23:55.862Z"
   },
   {
    "duration": 185,
    "start_time": "2024-10-31T22:23:56.002Z"
   },
   {
    "duration": 144,
    "start_time": "2024-10-31T22:23:56.189Z"
   },
   {
    "duration": 138,
    "start_time": "2024-10-31T22:23:56.335Z"
   },
   {
    "duration": 168,
    "start_time": "2024-10-31T22:23:56.474Z"
   },
   {
    "duration": 5,
    "start_time": "2024-10-31T22:40:18.598Z"
   },
   {
    "duration": 4,
    "start_time": "2024-10-31T22:41:06.105Z"
   },
   {
    "duration": 5,
    "start_time": "2024-10-31T22:41:19.698Z"
   },
   {
    "duration": 6,
    "start_time": "2024-10-31T22:41:57.090Z"
   },
   {
    "duration": 5,
    "start_time": "2024-10-31T22:42:49.773Z"
   },
   {
    "duration": 7,
    "start_time": "2024-10-31T22:47:35.448Z"
   },
   {
    "duration": 220,
    "start_time": "2024-10-31T22:53:35.250Z"
   },
   {
    "duration": 10,
    "start_time": "2024-10-31T22:53:43.585Z"
   },
   {
    "duration": 8,
    "start_time": "2024-10-31T22:53:56.955Z"
   },
   {
    "duration": 8,
    "start_time": "2024-10-31T22:54:03.687Z"
   },
   {
    "duration": 4,
    "start_time": "2024-10-31T22:56:12.918Z"
   },
   {
    "duration": 5,
    "start_time": "2024-10-31T22:56:31.398Z"
   },
   {
    "duration": 18,
    "start_time": "2024-10-31T22:56:38.255Z"
   },
   {
    "duration": 7,
    "start_time": "2024-10-31T22:56:50.332Z"
   },
   {
    "duration": 8,
    "start_time": "2024-10-31T22:58:55.573Z"
   },
   {
    "duration": 7,
    "start_time": "2024-10-31T22:59:42.377Z"
   },
   {
    "duration": 5,
    "start_time": "2024-10-31T23:00:40.402Z"
   },
   {
    "duration": 6,
    "start_time": "2024-10-31T23:00:49.238Z"
   },
   {
    "duration": 7,
    "start_time": "2024-10-31T23:00:59.382Z"
   },
   {
    "duration": 5,
    "start_time": "2024-10-31T23:12:54.109Z"
   },
   {
    "duration": 9,
    "start_time": "2024-10-31T23:14:17.388Z"
   },
   {
    "duration": 8,
    "start_time": "2024-10-31T23:14:36.806Z"
   },
   {
    "duration": 7,
    "start_time": "2024-10-31T23:15:12.134Z"
   },
   {
    "duration": 8,
    "start_time": "2024-10-31T23:26:48.362Z"
   },
   {
    "duration": 8,
    "start_time": "2024-10-31T23:26:57.480Z"
   },
   {
    "duration": 210,
    "start_time": "2024-10-31T23:32:16.578Z"
   },
   {
    "duration": 9,
    "start_time": "2024-11-02T21:05:14.204Z"
   },
   {
    "duration": 5,
    "start_time": "2024-11-02T21:05:23.560Z"
   },
   {
    "duration": 5,
    "start_time": "2024-11-02T21:05:29.285Z"
   },
   {
    "duration": 162,
    "start_time": "2024-11-02T21:11:43.027Z"
   },
   {
    "duration": 2628,
    "start_time": "2024-11-02T21:11:51.400Z"
   },
   {
    "duration": 66,
    "start_time": "2024-11-02T21:11:54.031Z"
   },
   {
    "duration": 11,
    "start_time": "2024-11-02T21:11:54.099Z"
   },
   {
    "duration": 4,
    "start_time": "2024-11-02T21:11:54.113Z"
   },
   {
    "duration": 7,
    "start_time": "2024-11-02T21:11:54.119Z"
   },
   {
    "duration": 4,
    "start_time": "2024-11-02T21:11:54.128Z"
   },
   {
    "duration": 5,
    "start_time": "2024-11-02T21:11:54.134Z"
   },
   {
    "duration": 13,
    "start_time": "2024-11-02T21:11:54.140Z"
   },
   {
    "duration": 7,
    "start_time": "2024-11-02T21:11:54.154Z"
   },
   {
    "duration": 11,
    "start_time": "2024-11-02T21:11:54.164Z"
   },
   {
    "duration": 49,
    "start_time": "2024-11-02T21:11:54.176Z"
   },
   {
    "duration": 6,
    "start_time": "2024-11-02T21:11:54.227Z"
   },
   {
    "duration": 16,
    "start_time": "2024-11-02T21:11:54.234Z"
   },
   {
    "duration": 13,
    "start_time": "2024-11-02T21:11:54.251Z"
   },
   {
    "duration": 253,
    "start_time": "2024-11-02T21:11:54.265Z"
   },
   {
    "duration": 191,
    "start_time": "2024-11-02T21:11:54.523Z"
   },
   {
    "duration": 13,
    "start_time": "2024-11-02T21:11:54.716Z"
   },
   {
    "duration": 315,
    "start_time": "2024-11-02T21:11:54.730Z"
   },
   {
    "duration": 14,
    "start_time": "2024-11-02T21:11:55.047Z"
   },
   {
    "duration": 13,
    "start_time": "2024-11-02T21:11:55.063Z"
   },
   {
    "duration": 119,
    "start_time": "2024-11-02T21:11:55.078Z"
   },
   {
    "duration": 213,
    "start_time": "2024-11-02T21:11:55.199Z"
   },
   {
    "duration": 140,
    "start_time": "2024-11-02T21:11:55.414Z"
   },
   {
    "duration": 141,
    "start_time": "2024-11-02T21:11:55.556Z"
   },
   {
    "duration": 136,
    "start_time": "2024-11-02T21:11:55.701Z"
   },
   {
    "duration": 133,
    "start_time": "2024-11-02T21:11:55.839Z"
   },
   {
    "duration": 129,
    "start_time": "2024-11-02T21:11:55.974Z"
   },
   {
    "duration": 137,
    "start_time": "2024-11-02T21:11:56.106Z"
   },
   {
    "duration": 179,
    "start_time": "2024-11-02T21:11:56.245Z"
   },
   {
    "duration": 221,
    "start_time": "2024-11-02T21:11:56.426Z"
   },
   {
    "duration": 8,
    "start_time": "2024-11-02T21:11:56.649Z"
   },
   {
    "duration": 7,
    "start_time": "2024-11-02T21:11:56.658Z"
   },
   {
    "duration": 5,
    "start_time": "2024-11-02T21:12:05.282Z"
   },
   {
    "duration": 10,
    "start_time": "2024-11-02T21:12:24.367Z"
   },
   {
    "duration": 847,
    "start_time": "2024-11-02T21:13:38.031Z"
   },
   {
    "duration": 56,
    "start_time": "2024-11-02T21:13:38.880Z"
   },
   {
    "duration": 12,
    "start_time": "2024-11-02T21:13:38.938Z"
   },
   {
    "duration": 4,
    "start_time": "2024-11-02T21:13:38.954Z"
   },
   {
    "duration": 5,
    "start_time": "2024-11-02T21:13:38.960Z"
   },
   {
    "duration": 5,
    "start_time": "2024-11-02T21:13:38.967Z"
   },
   {
    "duration": 5,
    "start_time": "2024-11-02T21:13:38.973Z"
   },
   {
    "duration": 48,
    "start_time": "2024-11-02T21:13:38.980Z"
   },
   {
    "duration": 9,
    "start_time": "2024-11-02T21:13:39.029Z"
   },
   {
    "duration": 12,
    "start_time": "2024-11-02T21:13:39.041Z"
   },
   {
    "duration": 12,
    "start_time": "2024-11-02T21:13:39.055Z"
   },
   {
    "duration": 10,
    "start_time": "2024-11-02T21:13:39.069Z"
   },
   {
    "duration": 49,
    "start_time": "2024-11-02T21:13:39.081Z"
   },
   {
    "duration": 13,
    "start_time": "2024-11-02T21:13:39.132Z"
   },
   {
    "duration": 243,
    "start_time": "2024-11-02T21:13:39.147Z"
   },
   {
    "duration": 252,
    "start_time": "2024-11-02T21:13:39.391Z"
   },
   {
    "duration": 8,
    "start_time": "2024-11-02T21:13:39.647Z"
   },
   {
    "duration": 259,
    "start_time": "2024-11-02T21:13:39.657Z"
   },
   {
    "duration": 15,
    "start_time": "2024-11-02T21:13:39.918Z"
   },
   {
    "duration": 12,
    "start_time": "2024-11-02T21:13:39.934Z"
   },
   {
    "duration": 126,
    "start_time": "2024-11-02T21:13:39.948Z"
   },
   {
    "duration": 230,
    "start_time": "2024-11-02T21:13:40.076Z"
   },
   {
    "duration": 145,
    "start_time": "2024-11-02T21:13:40.308Z"
   },
   {
    "duration": 136,
    "start_time": "2024-11-02T21:13:40.455Z"
   },
   {
    "duration": 135,
    "start_time": "2024-11-02T21:13:40.593Z"
   },
   {
    "duration": 125,
    "start_time": "2024-11-02T21:13:40.730Z"
   },
   {
    "duration": 131,
    "start_time": "2024-11-02T21:13:40.857Z"
   },
   {
    "duration": 133,
    "start_time": "2024-11-02T21:13:40.992Z"
   },
   {
    "duration": 253,
    "start_time": "2024-11-02T21:13:41.127Z"
   },
   {
    "duration": 158,
    "start_time": "2024-11-02T21:13:41.382Z"
   },
   {
    "duration": 8,
    "start_time": "2024-11-02T21:13:41.542Z"
   },
   {
    "duration": 7,
    "start_time": "2024-11-02T21:13:41.551Z"
   },
   {
    "duration": 208,
    "start_time": "2024-11-02T21:22:16.451Z"
   },
   {
    "duration": 209,
    "start_time": "2024-11-02T21:22:43.004Z"
   },
   {
    "duration": 8,
    "start_time": "2024-11-02T21:29:39.473Z"
   },
   {
    "duration": 9,
    "start_time": "2024-11-02T21:30:15.268Z"
   },
   {
    "duration": 156,
    "start_time": "2025-01-28T23:26:56.175Z"
   }
  ],
  "kernelspec": {
   "display_name": "base",
   "language": "python",
   "name": "python3"
  },
  "language_info": {
   "codemirror_mode": {
    "name": "ipython",
    "version": 3
   },
   "file_extension": ".py",
   "mimetype": "text/x-python",
   "name": "python",
   "nbconvert_exporter": "python",
   "pygments_lexer": "ipython3",
   "version": "3.12.4"
  },
  "toc": {
   "base_numbering": 1,
   "nav_menu": {},
   "number_sections": true,
   "sideBar": true,
   "skip_h1_title": true,
   "title_cell": "Table of Contents",
   "title_sidebar": "Contents",
   "toc_cell": false,
   "toc_position": {},
   "toc_section_display": true,
   "toc_window_display": false
  }
 },
 "nbformat": 4,
 "nbformat_minor": 2
}
